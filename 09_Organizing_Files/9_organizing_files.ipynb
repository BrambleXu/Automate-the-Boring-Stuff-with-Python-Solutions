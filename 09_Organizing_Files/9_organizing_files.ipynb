{
 "cells": [
  {
   "cell_type": "code",
   "execution_count": 1,
   "metadata": {
    "collapsed": false
   },
   "outputs": [
    {
     "data": {
      "text/plain": [
       "['.ipynb_checkpoints', '9_organizing_files.ipynb']"
      ]
     },
     "execution_count": 1,
     "metadata": {},
     "output_type": "execute_result"
    }
   ],
   "source": [
    "import os\n",
    "os.listdir()"
   ]
  },
  {
   "cell_type": "code",
   "execution_count": 5,
   "metadata": {
    "collapsed": false
   },
   "outputs": [
    {
     "name": "stdout",
     "output_type": "stream",
     "text": [
      "9_organizing_files.ipynb\n"
     ]
    }
   ],
   "source": [
    "for file_name in os.listdir():\n",
    "    if file_name.endswith('.ipynb'):\n",
    "        #os.unlink(file_name)\n",
    "        print (file_name)"
   ]
  },
  {
   "cell_type": "code",
   "execution_count": 7,
   "metadata": {
    "collapsed": false
   },
   "outputs": [
    {
     "data": {
      "text/plain": [
       "'/Users/xu/Udacity/Automate_the_Boring_Stuff_with_Python_Solutions/9_Organizing_Files'"
      ]
     },
     "execution_count": 7,
     "metadata": {},
     "output_type": "execute_result"
    }
   ],
   "source": [
    "os.path.abspath('.')"
   ]
  },
  {
   "cell_type": "code",
   "execution_count": 8,
   "metadata": {
    "collapsed": true
   },
   "outputs": [],
   "source": [
    "import send2trash"
   ]
  },
  {
   "cell_type": "code",
   "execution_count": 11,
   "metadata": {
    "collapsed": true
   },
   "outputs": [],
   "source": [
    "bacon_file = open('bacon.txt', 'a') # create the file"
   ]
  },
  {
   "cell_type": "code",
   "execution_count": 12,
   "metadata": {
    "collapsed": false
   },
   "outputs": [
    {
     "name": "stdout",
     "output_type": "stream",
     "text": [
      "9_organizing_files.ipynb  bacon.txt\r\n"
     ]
    }
   ],
   "source": [
    "ls"
   ]
  },
  {
   "cell_type": "code",
   "execution_count": 13,
   "metadata": {
    "collapsed": false
   },
   "outputs": [
    {
     "data": {
      "text/plain": [
       "26"
      ]
     },
     "execution_count": 13,
     "metadata": {},
     "output_type": "execute_result"
    }
   ],
   "source": [
    "bacon_file.write('Bacon is note a vegetable.')"
   ]
  },
  {
   "cell_type": "code",
   "execution_count": 14,
   "metadata": {
    "collapsed": true
   },
   "outputs": [],
   "source": [
    "bacon_file.close()"
   ]
  },
  {
   "cell_type": "code",
   "execution_count": 15,
   "metadata": {
    "collapsed": false
   },
   "outputs": [
    {
     "name": "stdout",
     "output_type": "stream",
     "text": [
      "9_organizing_files.ipynb  bacon.txt\r\n"
     ]
    }
   ],
   "source": [
    "ls"
   ]
  },
  {
   "cell_type": "code",
   "execution_count": 16,
   "metadata": {
    "collapsed": true
   },
   "outputs": [],
   "source": [
    "send2trash.send2trash('bacon.txt')"
   ]
  },
  {
   "cell_type": "code",
   "execution_count": 17,
   "metadata": {
    "collapsed": false
   },
   "outputs": [
    {
     "name": "stdout",
     "output_type": "stream",
     "text": [
      "9_organizing_files.ipynb\r\n"
     ]
    }
   ],
   "source": [
    "ls"
   ]
  },
  {
   "cell_type": "code",
   "execution_count": null,
   "metadata": {
    "collapsed": true
   },
   "outputs": [],
   "source": [
    "# 9.2 遍历"
   ]
  },
  {
   "cell_type": "code",
   "execution_count": 18,
   "metadata": {
    "collapsed": false
   },
   "outputs": [
    {
     "data": {
      "text/plain": [
       "'/Users/xu/Udacity/Automate_the_Boring_Stuff_with_Python_Solutions/9_Organizing_Files'"
      ]
     },
     "execution_count": 18,
     "metadata": {},
     "output_type": "execute_result"
    }
   ],
   "source": [
    "pwd"
   ]
  },
  {
   "cell_type": "code",
   "execution_count": 20,
   "metadata": {
    "collapsed": false
   },
   "outputs": [
    {
     "name": "stdout",
     "output_type": "stream",
     "text": [
      "The current folder is /Users/xu/Udacity/Automate_the_Boring_Stuff_with_Python_Solutions\n",
      "SUBFOLDER OF /Users/xu/Udacity/Automate_the_Boring_Stuff_with_Python_Solutions: .git\n",
      "SUBFOLDER OF /Users/xu/Udacity/Automate_the_Boring_Stuff_with_Python_Solutions: 2_Control_Flow\n",
      "SUBFOLDER OF /Users/xu/Udacity/Automate_the_Boring_Stuff_with_Python_Solutions: 3_Function\n",
      "SUBFOLDER OF /Users/xu/Udacity/Automate_the_Boring_Stuff_with_Python_Solutions: 4_List\n",
      "SUBFOLDER OF /Users/xu/Udacity/Automate_the_Boring_Stuff_with_Python_Solutions: 5_Dictionaries_and_Structuring_Data\n",
      "SUBFOLDER OF /Users/xu/Udacity/Automate_the_Boring_Stuff_with_Python_Solutions: 6_Manipulating_Strings\n",
      "SUBFOLDER OF /Users/xu/Udacity/Automate_the_Boring_Stuff_with_Python_Solutions: 7_Pattern_Matching_with_Regular_Expressions\n",
      "SUBFOLDER OF /Users/xu/Udacity/Automate_the_Boring_Stuff_with_Python_Solutions: 8_Reading_and_Writing_Files\n",
      "SUBFOLDER OF /Users/xu/Udacity/Automate_the_Boring_Stuff_with_Python_Solutions: 9_Organizing_Files\n",
      "SUBFOLDER OF /Users/xu/Udacity/Automate_the_Boring_Stuff_with_Python_Solutions: Automate_online-materials\n",
      "FILE INSIDE /Users/xu/Udacity/Automate_the_Boring_Stuff_with_Python_Solutions: .DS_Store\n",
      "FILE INSIDE /Users/xu/Udacity/Automate_the_Boring_Stuff_with_Python_Solutions: README.md\n",
      "\n",
      "The current folder is /Users/xu/Udacity/Automate_the_Boring_Stuff_with_Python_Solutions/.git\n",
      "SUBFOLDER OF /Users/xu/Udacity/Automate_the_Boring_Stuff_with_Python_Solutions/.git: branches\n",
      "SUBFOLDER OF /Users/xu/Udacity/Automate_the_Boring_Stuff_with_Python_Solutions/.git: hooks\n",
      "SUBFOLDER OF /Users/xu/Udacity/Automate_the_Boring_Stuff_with_Python_Solutions/.git: info\n",
      "SUBFOLDER OF /Users/xu/Udacity/Automate_the_Boring_Stuff_with_Python_Solutions/.git: logs\n",
      "SUBFOLDER OF /Users/xu/Udacity/Automate_the_Boring_Stuff_with_Python_Solutions/.git: objects\n",
      "SUBFOLDER OF /Users/xu/Udacity/Automate_the_Boring_Stuff_with_Python_Solutions/.git: refs\n",
      "FILE INSIDE /Users/xu/Udacity/Automate_the_Boring_Stuff_with_Python_Solutions/.git: COMMIT_EDITMSG\n",
      "FILE INSIDE /Users/xu/Udacity/Automate_the_Boring_Stuff_with_Python_Solutions/.git: config\n",
      "FILE INSIDE /Users/xu/Udacity/Automate_the_Boring_Stuff_with_Python_Solutions/.git: description\n",
      "FILE INSIDE /Users/xu/Udacity/Automate_the_Boring_Stuff_with_Python_Solutions/.git: HEAD\n",
      "FILE INSIDE /Users/xu/Udacity/Automate_the_Boring_Stuff_with_Python_Solutions/.git: index\n",
      "\n",
      "The current folder is /Users/xu/Udacity/Automate_the_Boring_Stuff_with_Python_Solutions/.git/branches\n",
      "\n",
      "The current folder is /Users/xu/Udacity/Automate_the_Boring_Stuff_with_Python_Solutions/.git/hooks\n",
      "FILE INSIDE /Users/xu/Udacity/Automate_the_Boring_Stuff_with_Python_Solutions/.git/hooks: applypatch-msg.sample\n",
      "FILE INSIDE /Users/xu/Udacity/Automate_the_Boring_Stuff_with_Python_Solutions/.git/hooks: commit-msg.sample\n",
      "FILE INSIDE /Users/xu/Udacity/Automate_the_Boring_Stuff_with_Python_Solutions/.git/hooks: post-update.sample\n",
      "FILE INSIDE /Users/xu/Udacity/Automate_the_Boring_Stuff_with_Python_Solutions/.git/hooks: pre-applypatch.sample\n",
      "FILE INSIDE /Users/xu/Udacity/Automate_the_Boring_Stuff_with_Python_Solutions/.git/hooks: pre-commit.sample\n",
      "FILE INSIDE /Users/xu/Udacity/Automate_the_Boring_Stuff_with_Python_Solutions/.git/hooks: pre-push.sample\n",
      "FILE INSIDE /Users/xu/Udacity/Automate_the_Boring_Stuff_with_Python_Solutions/.git/hooks: pre-rebase.sample\n",
      "FILE INSIDE /Users/xu/Udacity/Automate_the_Boring_Stuff_with_Python_Solutions/.git/hooks: pre-receive.sample\n",
      "FILE INSIDE /Users/xu/Udacity/Automate_the_Boring_Stuff_with_Python_Solutions/.git/hooks: prepare-commit-msg.sample\n",
      "FILE INSIDE /Users/xu/Udacity/Automate_the_Boring_Stuff_with_Python_Solutions/.git/hooks: update.sample\n",
      "\n",
      "The current folder is /Users/xu/Udacity/Automate_the_Boring_Stuff_with_Python_Solutions/.git/info\n",
      "FILE INSIDE /Users/xu/Udacity/Automate_the_Boring_Stuff_with_Python_Solutions/.git/info: exclude\n",
      "\n",
      "The current folder is /Users/xu/Udacity/Automate_the_Boring_Stuff_with_Python_Solutions/.git/logs\n",
      "SUBFOLDER OF /Users/xu/Udacity/Automate_the_Boring_Stuff_with_Python_Solutions/.git/logs: refs\n",
      "FILE INSIDE /Users/xu/Udacity/Automate_the_Boring_Stuff_with_Python_Solutions/.git/logs: HEAD\n",
      "\n",
      "The current folder is /Users/xu/Udacity/Automate_the_Boring_Stuff_with_Python_Solutions/.git/logs/refs\n",
      "SUBFOLDER OF /Users/xu/Udacity/Automate_the_Boring_Stuff_with_Python_Solutions/.git/logs/refs: heads\n",
      "\n",
      "The current folder is /Users/xu/Udacity/Automate_the_Boring_Stuff_with_Python_Solutions/.git/logs/refs/heads\n",
      "FILE INSIDE /Users/xu/Udacity/Automate_the_Boring_Stuff_with_Python_Solutions/.git/logs/refs/heads: master\n",
      "\n",
      "The current folder is /Users/xu/Udacity/Automate_the_Boring_Stuff_with_Python_Solutions/.git/objects\n",
      "SUBFOLDER OF /Users/xu/Udacity/Automate_the_Boring_Stuff_with_Python_Solutions/.git/objects: 00\n",
      "SUBFOLDER OF /Users/xu/Udacity/Automate_the_Boring_Stuff_with_Python_Solutions/.git/objects: 01\n",
      "SUBFOLDER OF /Users/xu/Udacity/Automate_the_Boring_Stuff_with_Python_Solutions/.git/objects: 05\n",
      "SUBFOLDER OF /Users/xu/Udacity/Automate_the_Boring_Stuff_with_Python_Solutions/.git/objects: 0b\n",
      "SUBFOLDER OF /Users/xu/Udacity/Automate_the_Boring_Stuff_with_Python_Solutions/.git/objects: 0c\n",
      "SUBFOLDER OF /Users/xu/Udacity/Automate_the_Boring_Stuff_with_Python_Solutions/.git/objects: 11\n",
      "SUBFOLDER OF /Users/xu/Udacity/Automate_the_Boring_Stuff_with_Python_Solutions/.git/objects: 15\n",
      "SUBFOLDER OF /Users/xu/Udacity/Automate_the_Boring_Stuff_with_Python_Solutions/.git/objects: 16\n",
      "SUBFOLDER OF /Users/xu/Udacity/Automate_the_Boring_Stuff_with_Python_Solutions/.git/objects: 17\n",
      "SUBFOLDER OF /Users/xu/Udacity/Automate_the_Boring_Stuff_with_Python_Solutions/.git/objects: 19\n",
      "SUBFOLDER OF /Users/xu/Udacity/Automate_the_Boring_Stuff_with_Python_Solutions/.git/objects: 1a\n",
      "SUBFOLDER OF /Users/xu/Udacity/Automate_the_Boring_Stuff_with_Python_Solutions/.git/objects: 1b\n",
      "SUBFOLDER OF /Users/xu/Udacity/Automate_the_Boring_Stuff_with_Python_Solutions/.git/objects: 1d\n",
      "SUBFOLDER OF /Users/xu/Udacity/Automate_the_Boring_Stuff_with_Python_Solutions/.git/objects: 1e\n",
      "SUBFOLDER OF /Users/xu/Udacity/Automate_the_Boring_Stuff_with_Python_Solutions/.git/objects: 1f\n",
      "SUBFOLDER OF /Users/xu/Udacity/Automate_the_Boring_Stuff_with_Python_Solutions/.git/objects: 20\n",
      "SUBFOLDER OF /Users/xu/Udacity/Automate_the_Boring_Stuff_with_Python_Solutions/.git/objects: 21\n",
      "SUBFOLDER OF /Users/xu/Udacity/Automate_the_Boring_Stuff_with_Python_Solutions/.git/objects: 24\n",
      "SUBFOLDER OF /Users/xu/Udacity/Automate_the_Boring_Stuff_with_Python_Solutions/.git/objects: 25\n",
      "SUBFOLDER OF /Users/xu/Udacity/Automate_the_Boring_Stuff_with_Python_Solutions/.git/objects: 26\n",
      "SUBFOLDER OF /Users/xu/Udacity/Automate_the_Boring_Stuff_with_Python_Solutions/.git/objects: 28\n",
      "SUBFOLDER OF /Users/xu/Udacity/Automate_the_Boring_Stuff_with_Python_Solutions/.git/objects: 2c\n",
      "SUBFOLDER OF /Users/xu/Udacity/Automate_the_Boring_Stuff_with_Python_Solutions/.git/objects: 2d\n",
      "SUBFOLDER OF /Users/xu/Udacity/Automate_the_Boring_Stuff_with_Python_Solutions/.git/objects: 2e\n",
      "SUBFOLDER OF /Users/xu/Udacity/Automate_the_Boring_Stuff_with_Python_Solutions/.git/objects: 2f\n",
      "SUBFOLDER OF /Users/xu/Udacity/Automate_the_Boring_Stuff_with_Python_Solutions/.git/objects: 32\n",
      "SUBFOLDER OF /Users/xu/Udacity/Automate_the_Boring_Stuff_with_Python_Solutions/.git/objects: 34\n",
      "SUBFOLDER OF /Users/xu/Udacity/Automate_the_Boring_Stuff_with_Python_Solutions/.git/objects: 36\n",
      "SUBFOLDER OF /Users/xu/Udacity/Automate_the_Boring_Stuff_with_Python_Solutions/.git/objects: 3a\n",
      "SUBFOLDER OF /Users/xu/Udacity/Automate_the_Boring_Stuff_with_Python_Solutions/.git/objects: 3c\n",
      "SUBFOLDER OF /Users/xu/Udacity/Automate_the_Boring_Stuff_with_Python_Solutions/.git/objects: 3e\n",
      "SUBFOLDER OF /Users/xu/Udacity/Automate_the_Boring_Stuff_with_Python_Solutions/.git/objects: 3f\n",
      "SUBFOLDER OF /Users/xu/Udacity/Automate_the_Boring_Stuff_with_Python_Solutions/.git/objects: 42\n",
      "SUBFOLDER OF /Users/xu/Udacity/Automate_the_Boring_Stuff_with_Python_Solutions/.git/objects: 43\n",
      "SUBFOLDER OF /Users/xu/Udacity/Automate_the_Boring_Stuff_with_Python_Solutions/.git/objects: 45\n",
      "SUBFOLDER OF /Users/xu/Udacity/Automate_the_Boring_Stuff_with_Python_Solutions/.git/objects: 46\n",
      "SUBFOLDER OF /Users/xu/Udacity/Automate_the_Boring_Stuff_with_Python_Solutions/.git/objects: 48\n",
      "SUBFOLDER OF /Users/xu/Udacity/Automate_the_Boring_Stuff_with_Python_Solutions/.git/objects: 4c\n",
      "SUBFOLDER OF /Users/xu/Udacity/Automate_the_Boring_Stuff_with_Python_Solutions/.git/objects: 4f\n",
      "SUBFOLDER OF /Users/xu/Udacity/Automate_the_Boring_Stuff_with_Python_Solutions/.git/objects: 51\n",
      "SUBFOLDER OF /Users/xu/Udacity/Automate_the_Boring_Stuff_with_Python_Solutions/.git/objects: 55\n",
      "SUBFOLDER OF /Users/xu/Udacity/Automate_the_Boring_Stuff_with_Python_Solutions/.git/objects: 56\n",
      "SUBFOLDER OF /Users/xu/Udacity/Automate_the_Boring_Stuff_with_Python_Solutions/.git/objects: 57\n",
      "SUBFOLDER OF /Users/xu/Udacity/Automate_the_Boring_Stuff_with_Python_Solutions/.git/objects: 5a\n",
      "SUBFOLDER OF /Users/xu/Udacity/Automate_the_Boring_Stuff_with_Python_Solutions/.git/objects: 5f\n",
      "SUBFOLDER OF /Users/xu/Udacity/Automate_the_Boring_Stuff_with_Python_Solutions/.git/objects: 61\n",
      "SUBFOLDER OF /Users/xu/Udacity/Automate_the_Boring_Stuff_with_Python_Solutions/.git/objects: 62\n",
      "SUBFOLDER OF /Users/xu/Udacity/Automate_the_Boring_Stuff_with_Python_Solutions/.git/objects: 63\n",
      "SUBFOLDER OF /Users/xu/Udacity/Automate_the_Boring_Stuff_with_Python_Solutions/.git/objects: 64\n",
      "SUBFOLDER OF /Users/xu/Udacity/Automate_the_Boring_Stuff_with_Python_Solutions/.git/objects: 66\n",
      "SUBFOLDER OF /Users/xu/Udacity/Automate_the_Boring_Stuff_with_Python_Solutions/.git/objects: 67\n",
      "SUBFOLDER OF /Users/xu/Udacity/Automate_the_Boring_Stuff_with_Python_Solutions/.git/objects: 69\n",
      "SUBFOLDER OF /Users/xu/Udacity/Automate_the_Boring_Stuff_with_Python_Solutions/.git/objects: 6a\n",
      "SUBFOLDER OF /Users/xu/Udacity/Automate_the_Boring_Stuff_with_Python_Solutions/.git/objects: 6b\n",
      "SUBFOLDER OF /Users/xu/Udacity/Automate_the_Boring_Stuff_with_Python_Solutions/.git/objects: 6f\n",
      "SUBFOLDER OF /Users/xu/Udacity/Automate_the_Boring_Stuff_with_Python_Solutions/.git/objects: 72\n",
      "SUBFOLDER OF /Users/xu/Udacity/Automate_the_Boring_Stuff_with_Python_Solutions/.git/objects: 73\n",
      "SUBFOLDER OF /Users/xu/Udacity/Automate_the_Boring_Stuff_with_Python_Solutions/.git/objects: 74\n",
      "SUBFOLDER OF /Users/xu/Udacity/Automate_the_Boring_Stuff_with_Python_Solutions/.git/objects: 7a\n",
      "SUBFOLDER OF /Users/xu/Udacity/Automate_the_Boring_Stuff_with_Python_Solutions/.git/objects: 7b\n",
      "SUBFOLDER OF /Users/xu/Udacity/Automate_the_Boring_Stuff_with_Python_Solutions/.git/objects: 7c\n",
      "SUBFOLDER OF /Users/xu/Udacity/Automate_the_Boring_Stuff_with_Python_Solutions/.git/objects: 7d\n",
      "SUBFOLDER OF /Users/xu/Udacity/Automate_the_Boring_Stuff_with_Python_Solutions/.git/objects: 7e\n",
      "SUBFOLDER OF /Users/xu/Udacity/Automate_the_Boring_Stuff_with_Python_Solutions/.git/objects: 81\n",
      "SUBFOLDER OF /Users/xu/Udacity/Automate_the_Boring_Stuff_with_Python_Solutions/.git/objects: 83\n",
      "SUBFOLDER OF /Users/xu/Udacity/Automate_the_Boring_Stuff_with_Python_Solutions/.git/objects: 84\n",
      "SUBFOLDER OF /Users/xu/Udacity/Automate_the_Boring_Stuff_with_Python_Solutions/.git/objects: 85\n",
      "SUBFOLDER OF /Users/xu/Udacity/Automate_the_Boring_Stuff_with_Python_Solutions/.git/objects: 89\n",
      "SUBFOLDER OF /Users/xu/Udacity/Automate_the_Boring_Stuff_with_Python_Solutions/.git/objects: 8b\n",
      "SUBFOLDER OF /Users/xu/Udacity/Automate_the_Boring_Stuff_with_Python_Solutions/.git/objects: 8d\n",
      "SUBFOLDER OF /Users/xu/Udacity/Automate_the_Boring_Stuff_with_Python_Solutions/.git/objects: 93\n",
      "SUBFOLDER OF /Users/xu/Udacity/Automate_the_Boring_Stuff_with_Python_Solutions/.git/objects: 94\n",
      "SUBFOLDER OF /Users/xu/Udacity/Automate_the_Boring_Stuff_with_Python_Solutions/.git/objects: 96\n",
      "SUBFOLDER OF /Users/xu/Udacity/Automate_the_Boring_Stuff_with_Python_Solutions/.git/objects: 99\n",
      "SUBFOLDER OF /Users/xu/Udacity/Automate_the_Boring_Stuff_with_Python_Solutions/.git/objects: 9a\n",
      "SUBFOLDER OF /Users/xu/Udacity/Automate_the_Boring_Stuff_with_Python_Solutions/.git/objects: 9d\n",
      "SUBFOLDER OF /Users/xu/Udacity/Automate_the_Boring_Stuff_with_Python_Solutions/.git/objects: 9e\n",
      "SUBFOLDER OF /Users/xu/Udacity/Automate_the_Boring_Stuff_with_Python_Solutions/.git/objects: 9f\n",
      "SUBFOLDER OF /Users/xu/Udacity/Automate_the_Boring_Stuff_with_Python_Solutions/.git/objects: a0\n",
      "SUBFOLDER OF /Users/xu/Udacity/Automate_the_Boring_Stuff_with_Python_Solutions/.git/objects: a1\n",
      "SUBFOLDER OF /Users/xu/Udacity/Automate_the_Boring_Stuff_with_Python_Solutions/.git/objects: a3\n",
      "SUBFOLDER OF /Users/xu/Udacity/Automate_the_Boring_Stuff_with_Python_Solutions/.git/objects: a4\n",
      "SUBFOLDER OF /Users/xu/Udacity/Automate_the_Boring_Stuff_with_Python_Solutions/.git/objects: a6\n",
      "SUBFOLDER OF /Users/xu/Udacity/Automate_the_Boring_Stuff_with_Python_Solutions/.git/objects: a7\n",
      "SUBFOLDER OF /Users/xu/Udacity/Automate_the_Boring_Stuff_with_Python_Solutions/.git/objects: ab\n",
      "SUBFOLDER OF /Users/xu/Udacity/Automate_the_Boring_Stuff_with_Python_Solutions/.git/objects: ad\n",
      "SUBFOLDER OF /Users/xu/Udacity/Automate_the_Boring_Stuff_with_Python_Solutions/.git/objects: ae\n",
      "SUBFOLDER OF /Users/xu/Udacity/Automate_the_Boring_Stuff_with_Python_Solutions/.git/objects: af\n",
      "SUBFOLDER OF /Users/xu/Udacity/Automate_the_Boring_Stuff_with_Python_Solutions/.git/objects: b2\n",
      "SUBFOLDER OF /Users/xu/Udacity/Automate_the_Boring_Stuff_with_Python_Solutions/.git/objects: b5\n",
      "SUBFOLDER OF /Users/xu/Udacity/Automate_the_Boring_Stuff_with_Python_Solutions/.git/objects: b8\n",
      "SUBFOLDER OF /Users/xu/Udacity/Automate_the_Boring_Stuff_with_Python_Solutions/.git/objects: bb\n",
      "SUBFOLDER OF /Users/xu/Udacity/Automate_the_Boring_Stuff_with_Python_Solutions/.git/objects: bf\n",
      "SUBFOLDER OF /Users/xu/Udacity/Automate_the_Boring_Stuff_with_Python_Solutions/.git/objects: c0\n",
      "SUBFOLDER OF /Users/xu/Udacity/Automate_the_Boring_Stuff_with_Python_Solutions/.git/objects: c1\n",
      "SUBFOLDER OF /Users/xu/Udacity/Automate_the_Boring_Stuff_with_Python_Solutions/.git/objects: c8\n",
      "SUBFOLDER OF /Users/xu/Udacity/Automate_the_Boring_Stuff_with_Python_Solutions/.git/objects: c9\n",
      "SUBFOLDER OF /Users/xu/Udacity/Automate_the_Boring_Stuff_with_Python_Solutions/.git/objects: cc\n",
      "SUBFOLDER OF /Users/xu/Udacity/Automate_the_Boring_Stuff_with_Python_Solutions/.git/objects: cd\n",
      "SUBFOLDER OF /Users/xu/Udacity/Automate_the_Boring_Stuff_with_Python_Solutions/.git/objects: ce\n",
      "SUBFOLDER OF /Users/xu/Udacity/Automate_the_Boring_Stuff_with_Python_Solutions/.git/objects: d1\n",
      "SUBFOLDER OF /Users/xu/Udacity/Automate_the_Boring_Stuff_with_Python_Solutions/.git/objects: d2\n",
      "SUBFOLDER OF /Users/xu/Udacity/Automate_the_Boring_Stuff_with_Python_Solutions/.git/objects: d3\n",
      "SUBFOLDER OF /Users/xu/Udacity/Automate_the_Boring_Stuff_with_Python_Solutions/.git/objects: d5\n",
      "SUBFOLDER OF /Users/xu/Udacity/Automate_the_Boring_Stuff_with_Python_Solutions/.git/objects: d7\n",
      "SUBFOLDER OF /Users/xu/Udacity/Automate_the_Boring_Stuff_with_Python_Solutions/.git/objects: d8\n",
      "SUBFOLDER OF /Users/xu/Udacity/Automate_the_Boring_Stuff_with_Python_Solutions/.git/objects: d9\n",
      "SUBFOLDER OF /Users/xu/Udacity/Automate_the_Boring_Stuff_with_Python_Solutions/.git/objects: da\n",
      "SUBFOLDER OF /Users/xu/Udacity/Automate_the_Boring_Stuff_with_Python_Solutions/.git/objects: db\n",
      "SUBFOLDER OF /Users/xu/Udacity/Automate_the_Boring_Stuff_with_Python_Solutions/.git/objects: dd\n",
      "SUBFOLDER OF /Users/xu/Udacity/Automate_the_Boring_Stuff_with_Python_Solutions/.git/objects: df\n",
      "SUBFOLDER OF /Users/xu/Udacity/Automate_the_Boring_Stuff_with_Python_Solutions/.git/objects: e2\n",
      "SUBFOLDER OF /Users/xu/Udacity/Automate_the_Boring_Stuff_with_Python_Solutions/.git/objects: e5\n",
      "SUBFOLDER OF /Users/xu/Udacity/Automate_the_Boring_Stuff_with_Python_Solutions/.git/objects: e6\n",
      "SUBFOLDER OF /Users/xu/Udacity/Automate_the_Boring_Stuff_with_Python_Solutions/.git/objects: e7\n",
      "SUBFOLDER OF /Users/xu/Udacity/Automate_the_Boring_Stuff_with_Python_Solutions/.git/objects: ef\n",
      "SUBFOLDER OF /Users/xu/Udacity/Automate_the_Boring_Stuff_with_Python_Solutions/.git/objects: f0\n",
      "SUBFOLDER OF /Users/xu/Udacity/Automate_the_Boring_Stuff_with_Python_Solutions/.git/objects: f2\n",
      "SUBFOLDER OF /Users/xu/Udacity/Automate_the_Boring_Stuff_with_Python_Solutions/.git/objects: f6\n",
      "SUBFOLDER OF /Users/xu/Udacity/Automate_the_Boring_Stuff_with_Python_Solutions/.git/objects: f7\n",
      "SUBFOLDER OF /Users/xu/Udacity/Automate_the_Boring_Stuff_with_Python_Solutions/.git/objects: fa\n",
      "SUBFOLDER OF /Users/xu/Udacity/Automate_the_Boring_Stuff_with_Python_Solutions/.git/objects: fb\n",
      "SUBFOLDER OF /Users/xu/Udacity/Automate_the_Boring_Stuff_with_Python_Solutions/.git/objects: fc\n",
      "SUBFOLDER OF /Users/xu/Udacity/Automate_the_Boring_Stuff_with_Python_Solutions/.git/objects: info\n",
      "SUBFOLDER OF /Users/xu/Udacity/Automate_the_Boring_Stuff_with_Python_Solutions/.git/objects: pack\n",
      "\n",
      "The current folder is /Users/xu/Udacity/Automate_the_Boring_Stuff_with_Python_Solutions/.git/objects/00\n",
      "FILE INSIDE /Users/xu/Udacity/Automate_the_Boring_Stuff_with_Python_Solutions/.git/objects/00: 34ef7ae95bf3040f99243fb1c313606dbd75bd\n",
      "\n",
      "The current folder is /Users/xu/Udacity/Automate_the_Boring_Stuff_with_Python_Solutions/.git/objects/01\n",
      "FILE INSIDE /Users/xu/Udacity/Automate_the_Boring_Stuff_with_Python_Solutions/.git/objects/01: 01d7a7c6a5fef4e9374f476eede5df4b9fe83d\n",
      "\n",
      "The current folder is /Users/xu/Udacity/Automate_the_Boring_Stuff_with_Python_Solutions/.git/objects/05\n",
      "FILE INSIDE /Users/xu/Udacity/Automate_the_Boring_Stuff_with_Python_Solutions/.git/objects/05: 5a48b33e95ef30fa234cb8036d74e537e1033b\n",
      "\n",
      "The current folder is /Users/xu/Udacity/Automate_the_Boring_Stuff_with_Python_Solutions/.git/objects/0b\n",
      "FILE INSIDE /Users/xu/Udacity/Automate_the_Boring_Stuff_with_Python_Solutions/.git/objects/0b: 40bc1aa915825b19eb87606f21d1ed727dcb03\n",
      "FILE INSIDE /Users/xu/Udacity/Automate_the_Boring_Stuff_with_Python_Solutions/.git/objects/0b: cfc00aac48015c5976da6faadcf10f05b43244\n",
      "\n",
      "The current folder is /Users/xu/Udacity/Automate_the_Boring_Stuff_with_Python_Solutions/.git/objects/0c\n",
      "FILE INSIDE /Users/xu/Udacity/Automate_the_Boring_Stuff_with_Python_Solutions/.git/objects/0c: cbaae98e1a905c4855322321c9fbb7a1c01a30\n",
      "\n",
      "The current folder is /Users/xu/Udacity/Automate_the_Boring_Stuff_with_Python_Solutions/.git/objects/11\n",
      "FILE INSIDE /Users/xu/Udacity/Automate_the_Boring_Stuff_with_Python_Solutions/.git/objects/11: ade01014a721569fe4cb3550fadaab40b0165e\n",
      "\n",
      "The current folder is /Users/xu/Udacity/Automate_the_Boring_Stuff_with_Python_Solutions/.git/objects/15\n",
      "FILE INSIDE /Users/xu/Udacity/Automate_the_Boring_Stuff_with_Python_Solutions/.git/objects/15: a6bfc359b1061ae5c596021d4f633b503af19c\n",
      "\n",
      "The current folder is /Users/xu/Udacity/Automate_the_Boring_Stuff_with_Python_Solutions/.git/objects/16\n",
      "FILE INSIDE /Users/xu/Udacity/Automate_the_Boring_Stuff_with_Python_Solutions/.git/objects/16: a5ffd39bfdf8fe486e685951d47f26ed7db639\n",
      "\n",
      "The current folder is /Users/xu/Udacity/Automate_the_Boring_Stuff_with_Python_Solutions/.git/objects/17\n",
      "FILE INSIDE /Users/xu/Udacity/Automate_the_Boring_Stuff_with_Python_Solutions/.git/objects/17: 4427bc7431bd730683f6deebee7a601af536b5\n",
      "FILE INSIDE /Users/xu/Udacity/Automate_the_Boring_Stuff_with_Python_Solutions/.git/objects/17: ecda3cd37ebfcc3a000c3679a6c0565a215fde\n",
      "\n",
      "The current folder is /Users/xu/Udacity/Automate_the_Boring_Stuff_with_Python_Solutions/.git/objects/19\n",
      "FILE INSIDE /Users/xu/Udacity/Automate_the_Boring_Stuff_with_Python_Solutions/.git/objects/19: 163959b6f8b99ae0f0889d542be4805e167268\n",
      "\n",
      "The current folder is /Users/xu/Udacity/Automate_the_Boring_Stuff_with_Python_Solutions/.git/objects/1a\n",
      "FILE INSIDE /Users/xu/Udacity/Automate_the_Boring_Stuff_with_Python_Solutions/.git/objects/1a: 1a062583a52a91f2fb2659a69ab92b144fdf55\n",
      "FILE INSIDE /Users/xu/Udacity/Automate_the_Boring_Stuff_with_Python_Solutions/.git/objects/1a: bb53045ddcb50954e1db87b0b9171c2621f602\n",
      "\n",
      "The current folder is /Users/xu/Udacity/Automate_the_Boring_Stuff_with_Python_Solutions/.git/objects/1b\n",
      "FILE INSIDE /Users/xu/Udacity/Automate_the_Boring_Stuff_with_Python_Solutions/.git/objects/1b: 4636812b8f1b55a65a7ea30051c9e2216b0599\n",
      "\n",
      "The current folder is /Users/xu/Udacity/Automate_the_Boring_Stuff_with_Python_Solutions/.git/objects/1d\n",
      "FILE INSIDE /Users/xu/Udacity/Automate_the_Boring_Stuff_with_Python_Solutions/.git/objects/1d: c9a5fedc5cd0bd4f092f47182fa78b69295af7\n",
      "\n",
      "The current folder is /Users/xu/Udacity/Automate_the_Boring_Stuff_with_Python_Solutions/.git/objects/1e\n",
      "FILE INSIDE /Users/xu/Udacity/Automate_the_Boring_Stuff_with_Python_Solutions/.git/objects/1e: 4f0197e50002c89ce0b9071e03e02c22840c13\n",
      "\n",
      "The current folder is /Users/xu/Udacity/Automate_the_Boring_Stuff_with_Python_Solutions/.git/objects/1f\n",
      "FILE INSIDE /Users/xu/Udacity/Automate_the_Boring_Stuff_with_Python_Solutions/.git/objects/1f: 60f47ec0a1239ac6816d94498552a5b9be760d\n",
      "\n",
      "The current folder is /Users/xu/Udacity/Automate_the_Boring_Stuff_with_Python_Solutions/.git/objects/20\n",
      "FILE INSIDE /Users/xu/Udacity/Automate_the_Boring_Stuff_with_Python_Solutions/.git/objects/20: 3da640f1df76011f5e508f54f834f51a012906\n",
      "\n",
      "The current folder is /Users/xu/Udacity/Automate_the_Boring_Stuff_with_Python_Solutions/.git/objects/21\n",
      "FILE INSIDE /Users/xu/Udacity/Automate_the_Boring_Stuff_with_Python_Solutions/.git/objects/21: 2ba377c8d84292e026682bf078b54f40cf8a58\n",
      "FILE INSIDE /Users/xu/Udacity/Automate_the_Boring_Stuff_with_Python_Solutions/.git/objects/21: 897addd1a09215222640b164398d6e7749c0f4\n",
      "\n",
      "The current folder is /Users/xu/Udacity/Automate_the_Boring_Stuff_with_Python_Solutions/.git/objects/24\n",
      "FILE INSIDE /Users/xu/Udacity/Automate_the_Boring_Stuff_with_Python_Solutions/.git/objects/24: a7db462ad6e2228588e1f04054aa3ac3a240eb\n",
      "FILE INSIDE /Users/xu/Udacity/Automate_the_Boring_Stuff_with_Python_Solutions/.git/objects/24: d9d3caff6cc9e3bc400ee35f4c6f0650ee2eda\n",
      "\n",
      "The current folder is /Users/xu/Udacity/Automate_the_Boring_Stuff_with_Python_Solutions/.git/objects/25\n",
      "FILE INSIDE /Users/xu/Udacity/Automate_the_Boring_Stuff_with_Python_Solutions/.git/objects/25: 50218a7a23bf5e21b7146bb9fd91eb0d7d3ebc\n",
      "\n",
      "The current folder is /Users/xu/Udacity/Automate_the_Boring_Stuff_with_Python_Solutions/.git/objects/26\n",
      "FILE INSIDE /Users/xu/Udacity/Automate_the_Boring_Stuff_with_Python_Solutions/.git/objects/26: 0e246d88c91eef4d757a073f15c1a5edb262b5\n",
      "\n",
      "The current folder is /Users/xu/Udacity/Automate_the_Boring_Stuff_with_Python_Solutions/.git/objects/28\n",
      "FILE INSIDE /Users/xu/Udacity/Automate_the_Boring_Stuff_with_Python_Solutions/.git/objects/28: 6b7d00a8ea479cb032a32f0c71e477b1d81a25\n",
      "\n",
      "The current folder is /Users/xu/Udacity/Automate_the_Boring_Stuff_with_Python_Solutions/.git/objects/2c\n",
      "FILE INSIDE /Users/xu/Udacity/Automate_the_Boring_Stuff_with_Python_Solutions/.git/objects/2c: ac3c37b643d1e4f9f3e9b07f835a7f9e32941e\n",
      "\n",
      "The current folder is /Users/xu/Udacity/Automate_the_Boring_Stuff_with_Python_Solutions/.git/objects/2d\n",
      "FILE INSIDE /Users/xu/Udacity/Automate_the_Boring_Stuff_with_Python_Solutions/.git/objects/2d: 9f1fdab546fb3d212317074bb8fbd7ab0d94e4\n",
      "\n",
      "The current folder is /Users/xu/Udacity/Automate_the_Boring_Stuff_with_Python_Solutions/.git/objects/2e\n",
      "FILE INSIDE /Users/xu/Udacity/Automate_the_Boring_Stuff_with_Python_Solutions/.git/objects/2e: 4c5aa4e8b81005ebf3afc07a4e67d47de4d80a\n",
      "\n",
      "The current folder is /Users/xu/Udacity/Automate_the_Boring_Stuff_with_Python_Solutions/.git/objects/2f\n",
      "FILE INSIDE /Users/xu/Udacity/Automate_the_Boring_Stuff_with_Python_Solutions/.git/objects/2f: 8e382c1e4c31e072a992e4757ff8df471faef3\n",
      "\n",
      "The current folder is /Users/xu/Udacity/Automate_the_Boring_Stuff_with_Python_Solutions/.git/objects/32\n",
      "FILE INSIDE /Users/xu/Udacity/Automate_the_Boring_Stuff_with_Python_Solutions/.git/objects/32: 6a1ef511f26dfdad6f7b2e8f470b6dce011e26\n",
      "FILE INSIDE /Users/xu/Udacity/Automate_the_Boring_Stuff_with_Python_Solutions/.git/objects/32: c69a69093884f0f68693200269bb19e5af33c8\n",
      "\n",
      "The current folder is /Users/xu/Udacity/Automate_the_Boring_Stuff_with_Python_Solutions/.git/objects/34\n",
      "FILE INSIDE /Users/xu/Udacity/Automate_the_Boring_Stuff_with_Python_Solutions/.git/objects/34: 5bf52ef0b9ea3c3d42c741dc2fe6d4a399c987\n",
      "\n",
      "The current folder is /Users/xu/Udacity/Automate_the_Boring_Stuff_with_Python_Solutions/.git/objects/36\n",
      "FILE INSIDE /Users/xu/Udacity/Automate_the_Boring_Stuff_with_Python_Solutions/.git/objects/36: bb2a1f37260bed5c270a4628edd9fb575fb8ab\n",
      "\n",
      "The current folder is /Users/xu/Udacity/Automate_the_Boring_Stuff_with_Python_Solutions/.git/objects/3a\n",
      "FILE INSIDE /Users/xu/Udacity/Automate_the_Boring_Stuff_with_Python_Solutions/.git/objects/3a: 9e9c47c75c58742edddc5e2f42e5dc8e6eac1b\n",
      "FILE INSIDE /Users/xu/Udacity/Automate_the_Boring_Stuff_with_Python_Solutions/.git/objects/3a: e3dc208b2d3fa7fd6c555cfe1b164ae8581d8d\n",
      "\n",
      "The current folder is /Users/xu/Udacity/Automate_the_Boring_Stuff_with_Python_Solutions/.git/objects/3c\n",
      "FILE INSIDE /Users/xu/Udacity/Automate_the_Boring_Stuff_with_Python_Solutions/.git/objects/3c: 40f68b206f9524a7040e579b5ad2b094b1f4b5\n",
      "\n",
      "The current folder is /Users/xu/Udacity/Automate_the_Boring_Stuff_with_Python_Solutions/.git/objects/3e\n",
      "FILE INSIDE /Users/xu/Udacity/Automate_the_Boring_Stuff_with_Python_Solutions/.git/objects/3e: ce7ab8fe7f256e5204eb5bb97e8caf48b8ce9a\n",
      "\n",
      "The current folder is /Users/xu/Udacity/Automate_the_Boring_Stuff_with_Python_Solutions/.git/objects/3f\n",
      "FILE INSIDE /Users/xu/Udacity/Automate_the_Boring_Stuff_with_Python_Solutions/.git/objects/3f: 35260ab2c14a3d2c9514db6592a57ae39b0d88\n",
      "FILE INSIDE /Users/xu/Udacity/Automate_the_Boring_Stuff_with_Python_Solutions/.git/objects/3f: a6e3f0382cfda997bb2277724ccf6d84ad5822\n",
      "\n",
      "The current folder is /Users/xu/Udacity/Automate_the_Boring_Stuff_with_Python_Solutions/.git/objects/42\n",
      "FILE INSIDE /Users/xu/Udacity/Automate_the_Boring_Stuff_with_Python_Solutions/.git/objects/42: 63783e3d13ab232bf998c3f898f5aace512160\n",
      "\n",
      "The current folder is /Users/xu/Udacity/Automate_the_Boring_Stuff_with_Python_Solutions/.git/objects/43\n",
      "FILE INSIDE /Users/xu/Udacity/Automate_the_Boring_Stuff_with_Python_Solutions/.git/objects/43: 0a792728a078207e88184b3665749166a3bce6\n",
      "\n",
      "The current folder is /Users/xu/Udacity/Automate_the_Boring_Stuff_with_Python_Solutions/.git/objects/45\n",
      "FILE INSIDE /Users/xu/Udacity/Automate_the_Boring_Stuff_with_Python_Solutions/.git/objects/45: 7e83c8f552bf72cd1bcd1b6568636d7892835e\n",
      "\n",
      "The current folder is /Users/xu/Udacity/Automate_the_Boring_Stuff_with_Python_Solutions/.git/objects/46\n",
      "FILE INSIDE /Users/xu/Udacity/Automate_the_Boring_Stuff_with_Python_Solutions/.git/objects/46: c78c79ad2c88044690ea4d3bfe2517e990715f\n",
      "\n",
      "The current folder is /Users/xu/Udacity/Automate_the_Boring_Stuff_with_Python_Solutions/.git/objects/48\n",
      "FILE INSIDE /Users/xu/Udacity/Automate_the_Boring_Stuff_with_Python_Solutions/.git/objects/48: 065513d1bea8a33e249ed3a75182d6a48d71f1\n",
      "\n",
      "The current folder is /Users/xu/Udacity/Automate_the_Boring_Stuff_with_Python_Solutions/.git/objects/4c\n",
      "FILE INSIDE /Users/xu/Udacity/Automate_the_Boring_Stuff_with_Python_Solutions/.git/objects/4c: b902f2bbb026d541de3a7d41a1bd878e3a99f9\n",
      "\n",
      "The current folder is /Users/xu/Udacity/Automate_the_Boring_Stuff_with_Python_Solutions/.git/objects/4f\n",
      "FILE INSIDE /Users/xu/Udacity/Automate_the_Boring_Stuff_with_Python_Solutions/.git/objects/4f: 40664dddd943a23a91b5c1fa6a9a7c5d076eb6\n",
      "FILE INSIDE /Users/xu/Udacity/Automate_the_Boring_Stuff_with_Python_Solutions/.git/objects/4f: 41a1087fa41f4048cff71f9e36b70ab99c3e55\n",
      "FILE INSIDE /Users/xu/Udacity/Automate_the_Boring_Stuff_with_Python_Solutions/.git/objects/4f: 84d3cf4080edf71d0a2a91d79ad740fa8348bb\n",
      "FILE INSIDE /Users/xu/Udacity/Automate_the_Boring_Stuff_with_Python_Solutions/.git/objects/4f: f8c5744e1654aab0806f1239bd8ed3a92b084e\n",
      "\n",
      "The current folder is /Users/xu/Udacity/Automate_the_Boring_Stuff_with_Python_Solutions/.git/objects/51\n",
      "FILE INSIDE /Users/xu/Udacity/Automate_the_Boring_Stuff_with_Python_Solutions/.git/objects/51: a4a6743a6ac0d6156ee8ce1a2445e1ba5b1772\n",
      "\n",
      "The current folder is /Users/xu/Udacity/Automate_the_Boring_Stuff_with_Python_Solutions/.git/objects/55\n",
      "FILE INSIDE /Users/xu/Udacity/Automate_the_Boring_Stuff_with_Python_Solutions/.git/objects/55: b33a499235d4695a42ff9e62ace833d1839a76\n",
      "\n",
      "The current folder is /Users/xu/Udacity/Automate_the_Boring_Stuff_with_Python_Solutions/.git/objects/56\n",
      "FILE INSIDE /Users/xu/Udacity/Automate_the_Boring_Stuff_with_Python_Solutions/.git/objects/56: 0ac3201133604cda40177bff15cb643b500dd2\n",
      "FILE INSIDE /Users/xu/Udacity/Automate_the_Boring_Stuff_with_Python_Solutions/.git/objects/56: 25ef1a198160d716863b79e54aa1125a0f8f5c\n",
      "FILE INSIDE /Users/xu/Udacity/Automate_the_Boring_Stuff_with_Python_Solutions/.git/objects/56: 3e80c524e83688e0020cb70693ccf2248ce665\n",
      "FILE INSIDE /Users/xu/Udacity/Automate_the_Boring_Stuff_with_Python_Solutions/.git/objects/56: 7e3c942fe522b33616b9a2b2480bf3b0cbcf3b\n",
      "\n",
      "The current folder is /Users/xu/Udacity/Automate_the_Boring_Stuff_with_Python_Solutions/.git/objects/57\n",
      "FILE INSIDE /Users/xu/Udacity/Automate_the_Boring_Stuff_with_Python_Solutions/.git/objects/57: 8b8fff9180f76f88bfefc012df04c5f4b8094e\n",
      "FILE INSIDE /Users/xu/Udacity/Automate_the_Boring_Stuff_with_Python_Solutions/.git/objects/57: c7646f8626904120c32ad2226ffc31117a7b79\n",
      "\n",
      "The current folder is /Users/xu/Udacity/Automate_the_Boring_Stuff_with_Python_Solutions/.git/objects/5a\n",
      "FILE INSIDE /Users/xu/Udacity/Automate_the_Boring_Stuff_with_Python_Solutions/.git/objects/5a: a88616d1a2833b49635bd0ac52a4328a42cd5f\n",
      "FILE INSIDE /Users/xu/Udacity/Automate_the_Boring_Stuff_with_Python_Solutions/.git/objects/5a: da7c963a40df1bd3c620dd67528e7952dd6d1f\n",
      "\n",
      "The current folder is /Users/xu/Udacity/Automate_the_Boring_Stuff_with_Python_Solutions/.git/objects/5f\n",
      "FILE INSIDE /Users/xu/Udacity/Automate_the_Boring_Stuff_with_Python_Solutions/.git/objects/5f: d2ebf9af7044e769e4a3627ba30852538b3d17\n",
      "\n",
      "The current folder is /Users/xu/Udacity/Automate_the_Boring_Stuff_with_Python_Solutions/.git/objects/61\n",
      "FILE INSIDE /Users/xu/Udacity/Automate_the_Boring_Stuff_with_Python_Solutions/.git/objects/61: 32ba447b892c769769b2d3125dbcf3964084fc\n",
      "FILE INSIDE /Users/xu/Udacity/Automate_the_Boring_Stuff_with_Python_Solutions/.git/objects/61: f8f628aa44213bb00ace4f6e071a2f59ed288b\n",
      "\n",
      "The current folder is /Users/xu/Udacity/Automate_the_Boring_Stuff_with_Python_Solutions/.git/objects/62\n",
      "FILE INSIDE /Users/xu/Udacity/Automate_the_Boring_Stuff_with_Python_Solutions/.git/objects/62: 21e0411445b6db19de4b9622ff1fd4b91e8171\n",
      "\n",
      "The current folder is /Users/xu/Udacity/Automate_the_Boring_Stuff_with_Python_Solutions/.git/objects/63\n",
      "FILE INSIDE /Users/xu/Udacity/Automate_the_Boring_Stuff_with_Python_Solutions/.git/objects/63: 6a1ee2699e3a0026783050e62991d9b9acc42f\n",
      "\n",
      "The current folder is /Users/xu/Udacity/Automate_the_Boring_Stuff_with_Python_Solutions/.git/objects/64\n",
      "FILE INSIDE /Users/xu/Udacity/Automate_the_Boring_Stuff_with_Python_Solutions/.git/objects/64: 6d13a08ab7a45fa82d280ed4b454813a0419f0\n",
      "\n",
      "The current folder is /Users/xu/Udacity/Automate_the_Boring_Stuff_with_Python_Solutions/.git/objects/66\n",
      "FILE INSIDE /Users/xu/Udacity/Automate_the_Boring_Stuff_with_Python_Solutions/.git/objects/66: e08653b6108fe94f4815927e8d0fcb9e67e6dc\n",
      "\n",
      "The current folder is /Users/xu/Udacity/Automate_the_Boring_Stuff_with_Python_Solutions/.git/objects/67\n",
      "FILE INSIDE /Users/xu/Udacity/Automate_the_Boring_Stuff_with_Python_Solutions/.git/objects/67: a1416c753cf6f9606697621dd38528d2cf147f\n",
      "\n",
      "The current folder is /Users/xu/Udacity/Automate_the_Boring_Stuff_with_Python_Solutions/.git/objects/69\n",
      "FILE INSIDE /Users/xu/Udacity/Automate_the_Boring_Stuff_with_Python_Solutions/.git/objects/69: 60dc9ef24f13220a785f4e09078fae4efc2c9a\n",
      "\n",
      "The current folder is /Users/xu/Udacity/Automate_the_Boring_Stuff_with_Python_Solutions/.git/objects/6a\n",
      "FILE INSIDE /Users/xu/Udacity/Automate_the_Boring_Stuff_with_Python_Solutions/.git/objects/6a: 0b5f4083d3ede89a8fca956000e5cdaf3e892d\n",
      "\n",
      "The current folder is /Users/xu/Udacity/Automate_the_Boring_Stuff_with_Python_Solutions/.git/objects/6b\n",
      "FILE INSIDE /Users/xu/Udacity/Automate_the_Boring_Stuff_with_Python_Solutions/.git/objects/6b: a0aa6ac852d93ae289ae4280dd9899da5110a5\n",
      "\n",
      "The current folder is /Users/xu/Udacity/Automate_the_Boring_Stuff_with_Python_Solutions/.git/objects/6f\n",
      "FILE INSIDE /Users/xu/Udacity/Automate_the_Boring_Stuff_with_Python_Solutions/.git/objects/6f: 7aaee965183747cca6d2d9337094df09d963ad\n",
      "\n",
      "The current folder is /Users/xu/Udacity/Automate_the_Boring_Stuff_with_Python_Solutions/.git/objects/72\n",
      "FILE INSIDE /Users/xu/Udacity/Automate_the_Boring_Stuff_with_Python_Solutions/.git/objects/72: 543dc94efd3b5092cd9549e13c9399308f198c\n",
      "\n",
      "The current folder is /Users/xu/Udacity/Automate_the_Boring_Stuff_with_Python_Solutions/.git/objects/73\n",
      "FILE INSIDE /Users/xu/Udacity/Automate_the_Boring_Stuff_with_Python_Solutions/.git/objects/73: bbb71e598e8c8fcc12af06280bc7a6be07c557\n",
      "FILE INSIDE /Users/xu/Udacity/Automate_the_Boring_Stuff_with_Python_Solutions/.git/objects/73: e749972a6bbb9a5870610622407967eacbb185\n",
      "\n",
      "The current folder is /Users/xu/Udacity/Automate_the_Boring_Stuff_with_Python_Solutions/.git/objects/74\n",
      "FILE INSIDE /Users/xu/Udacity/Automate_the_Boring_Stuff_with_Python_Solutions/.git/objects/74: 19c90c5ada5a664d4ec07944414cee2f972ac8\n",
      "\n",
      "The current folder is /Users/xu/Udacity/Automate_the_Boring_Stuff_with_Python_Solutions/.git/objects/7a\n",
      "FILE INSIDE /Users/xu/Udacity/Automate_the_Boring_Stuff_with_Python_Solutions/.git/objects/7a: 7d8ed92b80193cd3a4242d4f15c74b54bd7d23\n",
      "\n",
      "The current folder is /Users/xu/Udacity/Automate_the_Boring_Stuff_with_Python_Solutions/.git/objects/7b\n",
      "FILE INSIDE /Users/xu/Udacity/Automate_the_Boring_Stuff_with_Python_Solutions/.git/objects/7b: 4efd025d1bbe8cc6440d6899d197d8197ae5ad\n",
      "FILE INSIDE /Users/xu/Udacity/Automate_the_Boring_Stuff_with_Python_Solutions/.git/objects/7b: 61aadc1d80786f658a0b6cd8a56d9c714e11cb\n",
      "FILE INSIDE /Users/xu/Udacity/Automate_the_Boring_Stuff_with_Python_Solutions/.git/objects/7b: 7b309020d5a98c6f5bb485523ffb777c7641ca\n",
      "\n",
      "The current folder is /Users/xu/Udacity/Automate_the_Boring_Stuff_with_Python_Solutions/.git/objects/7c\n",
      "FILE INSIDE /Users/xu/Udacity/Automate_the_Boring_Stuff_with_Python_Solutions/.git/objects/7c: 4be23a912ec7add52747cf807d57b692d91099\n",
      "\n",
      "The current folder is /Users/xu/Udacity/Automate_the_Boring_Stuff_with_Python_Solutions/.git/objects/7d\n",
      "FILE INSIDE /Users/xu/Udacity/Automate_the_Boring_Stuff_with_Python_Solutions/.git/objects/7d: 9ab09b93f8f73fe5199d967abc55f8c4ec14ac\n",
      "FILE INSIDE /Users/xu/Udacity/Automate_the_Boring_Stuff_with_Python_Solutions/.git/objects/7d: f7b6e201b568f0de173a0f2624fa769a8f49bc\n",
      "\n",
      "The current folder is /Users/xu/Udacity/Automate_the_Boring_Stuff_with_Python_Solutions/.git/objects/7e\n",
      "FILE INSIDE /Users/xu/Udacity/Automate_the_Boring_Stuff_with_Python_Solutions/.git/objects/7e: 550740d5d2adc055d10f10ed71588aeae2f863\n",
      "FILE INSIDE /Users/xu/Udacity/Automate_the_Boring_Stuff_with_Python_Solutions/.git/objects/7e: 67e730df6f992dfc73a843b8f5d081d626a19f\n",
      "FILE INSIDE /Users/xu/Udacity/Automate_the_Boring_Stuff_with_Python_Solutions/.git/objects/7e: 7b80f01e246d833355009a18df9808fb6da593\n",
      "FILE INSIDE /Users/xu/Udacity/Automate_the_Boring_Stuff_with_Python_Solutions/.git/objects/7e: f03afd97c7b27f39937c12b7484ce9eb407f5a\n",
      "\n",
      "The current folder is /Users/xu/Udacity/Automate_the_Boring_Stuff_with_Python_Solutions/.git/objects/81\n",
      "FILE INSIDE /Users/xu/Udacity/Automate_the_Boring_Stuff_with_Python_Solutions/.git/objects/81: 1da4e7da9402aabb4202824169fa767cdddd22\n",
      "FILE INSIDE /Users/xu/Udacity/Automate_the_Boring_Stuff_with_Python_Solutions/.git/objects/81: a19bb8eb6056829a6801b8ba8faf0fcf7e1a35\n",
      "\n",
      "The current folder is /Users/xu/Udacity/Automate_the_Boring_Stuff_with_Python_Solutions/.git/objects/83\n",
      "FILE INSIDE /Users/xu/Udacity/Automate_the_Boring_Stuff_with_Python_Solutions/.git/objects/83: 5d3e911991204e228c01ea363a5a60d05b6626\n",
      "\n",
      "The current folder is /Users/xu/Udacity/Automate_the_Boring_Stuff_with_Python_Solutions/.git/objects/84\n",
      "FILE INSIDE /Users/xu/Udacity/Automate_the_Boring_Stuff_with_Python_Solutions/.git/objects/84: 14babc12d8ae1a15f5420379e1061ee53008bb\n",
      "\n",
      "The current folder is /Users/xu/Udacity/Automate_the_Boring_Stuff_with_Python_Solutions/.git/objects/85\n",
      "FILE INSIDE /Users/xu/Udacity/Automate_the_Boring_Stuff_with_Python_Solutions/.git/objects/85: 0e361da20e5542cba89b5aaf2d993e4eb2a536\n",
      "FILE INSIDE /Users/xu/Udacity/Automate_the_Boring_Stuff_with_Python_Solutions/.git/objects/85: 3a0e264ab64690a7ce5551aba341e615036443\n",
      "FILE INSIDE /Users/xu/Udacity/Automate_the_Boring_Stuff_with_Python_Solutions/.git/objects/85: 79aa9cff56e027e147959dcd7789087bc90299\n",
      "\n",
      "The current folder is /Users/xu/Udacity/Automate_the_Boring_Stuff_with_Python_Solutions/.git/objects/89\n",
      "FILE INSIDE /Users/xu/Udacity/Automate_the_Boring_Stuff_with_Python_Solutions/.git/objects/89: 0c07d5a6acbeb3ddc5ad2bda7bc639a5be2613\n",
      "FILE INSIDE /Users/xu/Udacity/Automate_the_Boring_Stuff_with_Python_Solutions/.git/objects/89: bc435d1f88b720164459475faea72e370a8e6e\n",
      "\n",
      "The current folder is /Users/xu/Udacity/Automate_the_Boring_Stuff_with_Python_Solutions/.git/objects/8b\n",
      "FILE INSIDE /Users/xu/Udacity/Automate_the_Boring_Stuff_with_Python_Solutions/.git/objects/8b: 5ff38ef06cf1906fc45945a1d0545d8b1cdf69\n",
      "\n",
      "The current folder is /Users/xu/Udacity/Automate_the_Boring_Stuff_with_Python_Solutions/.git/objects/8d\n",
      "FILE INSIDE /Users/xu/Udacity/Automate_the_Boring_Stuff_with_Python_Solutions/.git/objects/8d: 113af1d9fb192a51c8d5828cc2798bdf8fa9ec\n",
      "\n",
      "The current folder is /Users/xu/Udacity/Automate_the_Boring_Stuff_with_Python_Solutions/.git/objects/93\n",
      "FILE INSIDE /Users/xu/Udacity/Automate_the_Boring_Stuff_with_Python_Solutions/.git/objects/93: 29e4f235c56b9a4e39357ccfd49ddd7a3825dc\n",
      "\n",
      "The current folder is /Users/xu/Udacity/Automate_the_Boring_Stuff_with_Python_Solutions/.git/objects/94\n",
      "FILE INSIDE /Users/xu/Udacity/Automate_the_Boring_Stuff_with_Python_Solutions/.git/objects/94: 3822960dc48cc8ff2098b2dd0da04070f13d17\n",
      "FILE INSIDE /Users/xu/Udacity/Automate_the_Boring_Stuff_with_Python_Solutions/.git/objects/94: d8d09894f5bcd8157c50f4e2bf1bae7aab49a0\n",
      "\n",
      "The current folder is /Users/xu/Udacity/Automate_the_Boring_Stuff_with_Python_Solutions/.git/objects/96\n",
      "FILE INSIDE /Users/xu/Udacity/Automate_the_Boring_Stuff_with_Python_Solutions/.git/objects/96: 01386f1d7c68876be45a19b0a8bd3534d7215f\n",
      "FILE INSIDE /Users/xu/Udacity/Automate_the_Boring_Stuff_with_Python_Solutions/.git/objects/96: ab3dffd9ddf78314f2a770c3f4efab74fc841f\n",
      "FILE INSIDE /Users/xu/Udacity/Automate_the_Boring_Stuff_with_Python_Solutions/.git/objects/96: f9ab1579d0d787997f7c61b4a144e2b116bed7\n",
      "\n",
      "The current folder is /Users/xu/Udacity/Automate_the_Boring_Stuff_with_Python_Solutions/.git/objects/99\n",
      "FILE INSIDE /Users/xu/Udacity/Automate_the_Boring_Stuff_with_Python_Solutions/.git/objects/99: d749ace62d2297a9ef772532370d2937f7a1ae\n",
      "\n",
      "The current folder is /Users/xu/Udacity/Automate_the_Boring_Stuff_with_Python_Solutions/.git/objects/9a\n",
      "FILE INSIDE /Users/xu/Udacity/Automate_the_Boring_Stuff_with_Python_Solutions/.git/objects/9a: c434e1d8f062d2fb6bd19cd4cb12bc77d2dabc\n",
      "\n",
      "The current folder is /Users/xu/Udacity/Automate_the_Boring_Stuff_with_Python_Solutions/.git/objects/9d\n",
      "FILE INSIDE /Users/xu/Udacity/Automate_the_Boring_Stuff_with_Python_Solutions/.git/objects/9d: d531d58c25b4c50f1cdb2751bb7fcec74664d8\n",
      "\n",
      "The current folder is /Users/xu/Udacity/Automate_the_Boring_Stuff_with_Python_Solutions/.git/objects/9e\n",
      "FILE INSIDE /Users/xu/Udacity/Automate_the_Boring_Stuff_with_Python_Solutions/.git/objects/9e: f8e5af60661d795fa72b2f513895f9a64511a8\n",
      "\n",
      "The current folder is /Users/xu/Udacity/Automate_the_Boring_Stuff_with_Python_Solutions/.git/objects/9f\n",
      "FILE INSIDE /Users/xu/Udacity/Automate_the_Boring_Stuff_with_Python_Solutions/.git/objects/9f: 595df4141dfe771d410bbbcc2b9599421dd3ab\n",
      "\n",
      "The current folder is /Users/xu/Udacity/Automate_the_Boring_Stuff_with_Python_Solutions/.git/objects/a0\n",
      "FILE INSIDE /Users/xu/Udacity/Automate_the_Boring_Stuff_with_Python_Solutions/.git/objects/a0: 97c2374d14b57f8ceb7886af16d1dd2f7b0b7f\n",
      "FILE INSIDE /Users/xu/Udacity/Automate_the_Boring_Stuff_with_Python_Solutions/.git/objects/a0: c26a3297bfed96c71c6cdbd7d53359bc685131\n",
      "\n",
      "The current folder is /Users/xu/Udacity/Automate_the_Boring_Stuff_with_Python_Solutions/.git/objects/a1\n",
      "FILE INSIDE /Users/xu/Udacity/Automate_the_Boring_Stuff_with_Python_Solutions/.git/objects/a1: 1178308f95fb54382d40c671744d5961570a85\n",
      "FILE INSIDE /Users/xu/Udacity/Automate_the_Boring_Stuff_with_Python_Solutions/.git/objects/a1: b0f84f6597e4a8efa4c8daa135bbc42474b5fb\n",
      "\n",
      "The current folder is /Users/xu/Udacity/Automate_the_Boring_Stuff_with_Python_Solutions/.git/objects/a3\n",
      "FILE INSIDE /Users/xu/Udacity/Automate_the_Boring_Stuff_with_Python_Solutions/.git/objects/a3: 53d24752a4311023c03bcb8c3a416187947cbd\n",
      "\n",
      "The current folder is /Users/xu/Udacity/Automate_the_Boring_Stuff_with_Python_Solutions/.git/objects/a4\n",
      "FILE INSIDE /Users/xu/Udacity/Automate_the_Boring_Stuff_with_Python_Solutions/.git/objects/a4: a2d303bd369b2d8bcfa425214e1e11c435b876\n",
      "\n",
      "The current folder is /Users/xu/Udacity/Automate_the_Boring_Stuff_with_Python_Solutions/.git/objects/a6\n",
      "FILE INSIDE /Users/xu/Udacity/Automate_the_Boring_Stuff_with_Python_Solutions/.git/objects/a6: 7a854b4df8c10005a25aa7d35a8538b1903bb1\n",
      "\n",
      "The current folder is /Users/xu/Udacity/Automate_the_Boring_Stuff_with_Python_Solutions/.git/objects/a7\n",
      "FILE INSIDE /Users/xu/Udacity/Automate_the_Boring_Stuff_with_Python_Solutions/.git/objects/a7: 23dcdbc9ff2063672321a7d71c90c600478d5a\n",
      "\n",
      "The current folder is /Users/xu/Udacity/Automate_the_Boring_Stuff_with_Python_Solutions/.git/objects/ab\n",
      "FILE INSIDE /Users/xu/Udacity/Automate_the_Boring_Stuff_with_Python_Solutions/.git/objects/ab: ebf7e1b1f2c5641439e19300cb4776e0804ccc\n",
      "\n",
      "The current folder is /Users/xu/Udacity/Automate_the_Boring_Stuff_with_Python_Solutions/.git/objects/ad\n",
      "FILE INSIDE /Users/xu/Udacity/Automate_the_Boring_Stuff_with_Python_Solutions/.git/objects/ad: 57a494b10c298c452266503a6f434431f9617a\n",
      "\n",
      "The current folder is /Users/xu/Udacity/Automate_the_Boring_Stuff_with_Python_Solutions/.git/objects/ae\n",
      "FILE INSIDE /Users/xu/Udacity/Automate_the_Boring_Stuff_with_Python_Solutions/.git/objects/ae: 10e3dfedb9bc54605a52d92867fb98c19ea814\n",
      "FILE INSIDE /Users/xu/Udacity/Automate_the_Boring_Stuff_with_Python_Solutions/.git/objects/ae: 797ac82a212f4ed511bacfde33b2563d78b08a\n",
      "FILE INSIDE /Users/xu/Udacity/Automate_the_Boring_Stuff_with_Python_Solutions/.git/objects/ae: 92ace96cd323fb08e58cae6d417c25a448ab7a\n",
      "FILE INSIDE /Users/xu/Udacity/Automate_the_Boring_Stuff_with_Python_Solutions/.git/objects/ae: c1166a7545660031c3b3283892d8ad327e96cd\n",
      "\n",
      "The current folder is /Users/xu/Udacity/Automate_the_Boring_Stuff_with_Python_Solutions/.git/objects/af\n",
      "FILE INSIDE /Users/xu/Udacity/Automate_the_Boring_Stuff_with_Python_Solutions/.git/objects/af: d1f7691030f3b7bfcf34664b68f7afc8263ee5\n",
      "FILE INSIDE /Users/xu/Udacity/Automate_the_Boring_Stuff_with_Python_Solutions/.git/objects/af: e1f92e407300f9ca61ad65880bbac2ed765bb1\n",
      "\n",
      "The current folder is /Users/xu/Udacity/Automate_the_Boring_Stuff_with_Python_Solutions/.git/objects/b2\n",
      "FILE INSIDE /Users/xu/Udacity/Automate_the_Boring_Stuff_with_Python_Solutions/.git/objects/b2: 3d47ce81260e93c9a7c01e4077e03f2e3c41ee\n",
      "FILE INSIDE /Users/xu/Udacity/Automate_the_Boring_Stuff_with_Python_Solutions/.git/objects/b2: ea501faad910ac88662ef5365fc66d4778cc8b\n",
      "\n",
      "The current folder is /Users/xu/Udacity/Automate_the_Boring_Stuff_with_Python_Solutions/.git/objects/b5\n",
      "FILE INSIDE /Users/xu/Udacity/Automate_the_Boring_Stuff_with_Python_Solutions/.git/objects/b5: 82d515c5c8933b9ec7a374102bcb42149dc5fc\n",
      "\n",
      "The current folder is /Users/xu/Udacity/Automate_the_Boring_Stuff_with_Python_Solutions/.git/objects/b8\n",
      "FILE INSIDE /Users/xu/Udacity/Automate_the_Boring_Stuff_with_Python_Solutions/.git/objects/b8: 7d8235b775933e33792b06e7e97fe04b4804cc\n",
      "\n",
      "The current folder is /Users/xu/Udacity/Automate_the_Boring_Stuff_with_Python_Solutions/.git/objects/bb\n",
      "FILE INSIDE /Users/xu/Udacity/Automate_the_Boring_Stuff_with_Python_Solutions/.git/objects/bb: 380c520646e0010dd6e75ee3f80c8e1227a8df\n",
      "\n",
      "The current folder is /Users/xu/Udacity/Automate_the_Boring_Stuff_with_Python_Solutions/.git/objects/bf\n",
      "FILE INSIDE /Users/xu/Udacity/Automate_the_Boring_Stuff_with_Python_Solutions/.git/objects/bf: 651e11889e962e33051fea8e5b7043aa85acf4\n",
      "\n",
      "The current folder is /Users/xu/Udacity/Automate_the_Boring_Stuff_with_Python_Solutions/.git/objects/c0\n",
      "FILE INSIDE /Users/xu/Udacity/Automate_the_Boring_Stuff_with_Python_Solutions/.git/objects/c0: 2203670312c303031c61d767ae0bc51bd703bb\n",
      "FILE INSIDE /Users/xu/Udacity/Automate_the_Boring_Stuff_with_Python_Solutions/.git/objects/c0: 3047087b46c3ede9cfe979d4a28693c50771e7\n",
      "FILE INSIDE /Users/xu/Udacity/Automate_the_Boring_Stuff_with_Python_Solutions/.git/objects/c0: f2b3f0f56d7e3f2fea86d35057bb53af05638c\n",
      "\n",
      "The current folder is /Users/xu/Udacity/Automate_the_Boring_Stuff_with_Python_Solutions/.git/objects/c1\n",
      "FILE INSIDE /Users/xu/Udacity/Automate_the_Boring_Stuff_with_Python_Solutions/.git/objects/c1: dce6b8bd309bacc9961902cfed5fc177419e82\n",
      "\n",
      "The current folder is /Users/xu/Udacity/Automate_the_Boring_Stuff_with_Python_Solutions/.git/objects/c8\n",
      "FILE INSIDE /Users/xu/Udacity/Automate_the_Boring_Stuff_with_Python_Solutions/.git/objects/c8: 0c6ae74ad647b5da2550d51a20c539b29130b0\n",
      "\n",
      "The current folder is /Users/xu/Udacity/Automate_the_Boring_Stuff_with_Python_Solutions/.git/objects/c9\n",
      "FILE INSIDE /Users/xu/Udacity/Automate_the_Boring_Stuff_with_Python_Solutions/.git/objects/c9: 07699d63adb8a538fc628f756654a1e06759ab\n",
      "\n",
      "The current folder is /Users/xu/Udacity/Automate_the_Boring_Stuff_with_Python_Solutions/.git/objects/cc\n",
      "FILE INSIDE /Users/xu/Udacity/Automate_the_Boring_Stuff_with_Python_Solutions/.git/objects/cc: bab4f86eed4a125601de0956e0c8554114e79e\n",
      "\n",
      "The current folder is /Users/xu/Udacity/Automate_the_Boring_Stuff_with_Python_Solutions/.git/objects/cd\n",
      "FILE INSIDE /Users/xu/Udacity/Automate_the_Boring_Stuff_with_Python_Solutions/.git/objects/cd: 0875583aabe89ee197ea133980a9085d08e497\n",
      "FILE INSIDE /Users/xu/Udacity/Automate_the_Boring_Stuff_with_Python_Solutions/.git/objects/cd: 79bdfe62657470e4878810475403e40b683563\n",
      "\n",
      "The current folder is /Users/xu/Udacity/Automate_the_Boring_Stuff_with_Python_Solutions/.git/objects/ce\n",
      "FILE INSIDE /Users/xu/Udacity/Automate_the_Boring_Stuff_with_Python_Solutions/.git/objects/ce: 5bb2ca9ba8c54f58c0138bd98d53c781b26d91\n",
      "FILE INSIDE /Users/xu/Udacity/Automate_the_Boring_Stuff_with_Python_Solutions/.git/objects/ce: a0a2147cccb2a7e92c49b929e9ef25e62aae19\n",
      "\n",
      "The current folder is /Users/xu/Udacity/Automate_the_Boring_Stuff_with_Python_Solutions/.git/objects/d1\n",
      "FILE INSIDE /Users/xu/Udacity/Automate_the_Boring_Stuff_with_Python_Solutions/.git/objects/d1: 149fc5baa7951a2c20bdaa7c52d9d0dc53b4c2\n",
      "\n",
      "The current folder is /Users/xu/Udacity/Automate_the_Boring_Stuff_with_Python_Solutions/.git/objects/d2\n",
      "FILE INSIDE /Users/xu/Udacity/Automate_the_Boring_Stuff_with_Python_Solutions/.git/objects/d2: c1ef03daacb0132ae46b0e00e72b21edf37e42\n",
      "\n",
      "The current folder is /Users/xu/Udacity/Automate_the_Boring_Stuff_with_Python_Solutions/.git/objects/d3\n",
      "FILE INSIDE /Users/xu/Udacity/Automate_the_Boring_Stuff_with_Python_Solutions/.git/objects/d3: ac463351276bb980462d9829421abed4690a33\n",
      "\n",
      "The current folder is /Users/xu/Udacity/Automate_the_Boring_Stuff_with_Python_Solutions/.git/objects/d5\n",
      "FILE INSIDE /Users/xu/Udacity/Automate_the_Boring_Stuff_with_Python_Solutions/.git/objects/d5: e3718158bb5434647f4f013b02f42f76ffbffb\n",
      "\n",
      "The current folder is /Users/xu/Udacity/Automate_the_Boring_Stuff_with_Python_Solutions/.git/objects/d7\n",
      "FILE INSIDE /Users/xu/Udacity/Automate_the_Boring_Stuff_with_Python_Solutions/.git/objects/d7: bd5c3e286f2e55e52397a31584579891487c78\n",
      "\n",
      "The current folder is /Users/xu/Udacity/Automate_the_Boring_Stuff_with_Python_Solutions/.git/objects/d8\n",
      "FILE INSIDE /Users/xu/Udacity/Automate_the_Boring_Stuff_with_Python_Solutions/.git/objects/d8: 021d4ce3a9e2aa57c8a4e020e4d8c394d0a4af\n",
      "\n",
      "The current folder is /Users/xu/Udacity/Automate_the_Boring_Stuff_with_Python_Solutions/.git/objects/d9\n",
      "FILE INSIDE /Users/xu/Udacity/Automate_the_Boring_Stuff_with_Python_Solutions/.git/objects/d9: b46b3e018c24f44c79874d2ccd215fb44c25ed\n",
      "FILE INSIDE /Users/xu/Udacity/Automate_the_Boring_Stuff_with_Python_Solutions/.git/objects/d9: bd13f7a28a98301a969db515b2eab3b501a57d\n",
      "\n",
      "The current folder is /Users/xu/Udacity/Automate_the_Boring_Stuff_with_Python_Solutions/.git/objects/da\n",
      "FILE INSIDE /Users/xu/Udacity/Automate_the_Boring_Stuff_with_Python_Solutions/.git/objects/da: af27eac121e172ddd2add9a46f13fc20330326\n",
      "FILE INSIDE /Users/xu/Udacity/Automate_the_Boring_Stuff_with_Python_Solutions/.git/objects/da: b4c6c698f8fc6d8e0e811da676f8e9b9bb33c9\n",
      "\n",
      "The current folder is /Users/xu/Udacity/Automate_the_Boring_Stuff_with_Python_Solutions/.git/objects/db\n",
      "FILE INSIDE /Users/xu/Udacity/Automate_the_Boring_Stuff_with_Python_Solutions/.git/objects/db: 1f590bd7c0dd4745c1cd323c7cf813b7d18209\n",
      "FILE INSIDE /Users/xu/Udacity/Automate_the_Boring_Stuff_with_Python_Solutions/.git/objects/db: 573f1abeccf785ce601548c3f35ee5b8f815f5\n",
      "\n",
      "The current folder is /Users/xu/Udacity/Automate_the_Boring_Stuff_with_Python_Solutions/.git/objects/dd\n",
      "FILE INSIDE /Users/xu/Udacity/Automate_the_Boring_Stuff_with_Python_Solutions/.git/objects/dd: 195966d7cbb327a0f01fdfebf56a1bf1a9dbd1\n",
      "FILE INSIDE /Users/xu/Udacity/Automate_the_Boring_Stuff_with_Python_Solutions/.git/objects/dd: 29a3bc5a5a1ae1bb6b7e7b4491a7d7a4efe420\n",
      "FILE INSIDE /Users/xu/Udacity/Automate_the_Boring_Stuff_with_Python_Solutions/.git/objects/dd: d749ea6e390b9236dffdcae17bb04b78201096\n",
      "\n",
      "The current folder is /Users/xu/Udacity/Automate_the_Boring_Stuff_with_Python_Solutions/.git/objects/df\n",
      "FILE INSIDE /Users/xu/Udacity/Automate_the_Boring_Stuff_with_Python_Solutions/.git/objects/df: 51c03f42f1f7412ad2c5e5bbaab8c827956bd8\n",
      "FILE INSIDE /Users/xu/Udacity/Automate_the_Boring_Stuff_with_Python_Solutions/.git/objects/df: a240422fe532da3c8ce19257396d5fc9a661ad\n",
      "\n",
      "The current folder is /Users/xu/Udacity/Automate_the_Boring_Stuff_with_Python_Solutions/.git/objects/e2\n",
      "FILE INSIDE /Users/xu/Udacity/Automate_the_Boring_Stuff_with_Python_Solutions/.git/objects/e2: d92987f1b5f05dd03b2c45da0243109c74f625\n",
      "FILE INSIDE /Users/xu/Udacity/Automate_the_Boring_Stuff_with_Python_Solutions/.git/objects/e2: f808a8020f69daa4565fe46f14f0eb95e02dcd\n",
      "\n",
      "The current folder is /Users/xu/Udacity/Automate_the_Boring_Stuff_with_Python_Solutions/.git/objects/e5\n",
      "FILE INSIDE /Users/xu/Udacity/Automate_the_Boring_Stuff_with_Python_Solutions/.git/objects/e5: 4a8ef3f996f8752c24874f7b5f2b62f241ccc9\n",
      "FILE INSIDE /Users/xu/Udacity/Automate_the_Boring_Stuff_with_Python_Solutions/.git/objects/e5: 67f938039ff18b0a1957ca67e4db38b5dbdec0\n",
      "\n",
      "The current folder is /Users/xu/Udacity/Automate_the_Boring_Stuff_with_Python_Solutions/.git/objects/e6\n",
      "FILE INSIDE /Users/xu/Udacity/Automate_the_Boring_Stuff_with_Python_Solutions/.git/objects/e6: ba0486d2c98eaaad114db79b6eb17f4af594c6\n",
      "\n",
      "The current folder is /Users/xu/Udacity/Automate_the_Boring_Stuff_with_Python_Solutions/.git/objects/e7\n",
      "FILE INSIDE /Users/xu/Udacity/Automate_the_Boring_Stuff_with_Python_Solutions/.git/objects/e7: 7a16f2a51ceedecd95f95688fb5ca716981fd7\n",
      "\n",
      "The current folder is /Users/xu/Udacity/Automate_the_Boring_Stuff_with_Python_Solutions/.git/objects/ef\n",
      "FILE INSIDE /Users/xu/Udacity/Automate_the_Boring_Stuff_with_Python_Solutions/.git/objects/ef: c280e3c21232583ffbf2936e4987752d47ebe4\n",
      "\n",
      "The current folder is /Users/xu/Udacity/Automate_the_Boring_Stuff_with_Python_Solutions/.git/objects/f0\n",
      "FILE INSIDE /Users/xu/Udacity/Automate_the_Boring_Stuff_with_Python_Solutions/.git/objects/f0: 1a209285b878be7b2381b4c8b3395b8cb5491c\n",
      "FILE INSIDE /Users/xu/Udacity/Automate_the_Boring_Stuff_with_Python_Solutions/.git/objects/f0: 904a5d6d50f0735ca15e6b07a858a48a08f968\n",
      "\n",
      "The current folder is /Users/xu/Udacity/Automate_the_Boring_Stuff_with_Python_Solutions/.git/objects/f2\n",
      "FILE INSIDE /Users/xu/Udacity/Automate_the_Boring_Stuff_with_Python_Solutions/.git/objects/f2: 425d83abb10d28a96c0c18dfe7ab753836a412\n",
      "\n",
      "The current folder is /Users/xu/Udacity/Automate_the_Boring_Stuff_with_Python_Solutions/.git/objects/f6\n",
      "FILE INSIDE /Users/xu/Udacity/Automate_the_Boring_Stuff_with_Python_Solutions/.git/objects/f6: b871f66f9fea5a403d36de8ed351bd9eccd572\n",
      "\n",
      "The current folder is /Users/xu/Udacity/Automate_the_Boring_Stuff_with_Python_Solutions/.git/objects/f7\n",
      "FILE INSIDE /Users/xu/Udacity/Automate_the_Boring_Stuff_with_Python_Solutions/.git/objects/f7: bb4e8f6c73e324ded022413cabae543a0c7678\n",
      "\n",
      "The current folder is /Users/xu/Udacity/Automate_the_Boring_Stuff_with_Python_Solutions/.git/objects/fa\n",
      "FILE INSIDE /Users/xu/Udacity/Automate_the_Boring_Stuff_with_Python_Solutions/.git/objects/fa: 9fff3a5e006d21dbabfa109089f5846ec3bd1e\n",
      "FILE INSIDE /Users/xu/Udacity/Automate_the_Boring_Stuff_with_Python_Solutions/.git/objects/fa: af7d89b073183bb6a166be61e1826e3127a199\n",
      "FILE INSIDE /Users/xu/Udacity/Automate_the_Boring_Stuff_with_Python_Solutions/.git/objects/fa: c518a82b527c968c7a574c3254049a8237f2cc\n",
      "\n",
      "The current folder is /Users/xu/Udacity/Automate_the_Boring_Stuff_with_Python_Solutions/.git/objects/fb\n",
      "FILE INSIDE /Users/xu/Udacity/Automate_the_Boring_Stuff_with_Python_Solutions/.git/objects/fb: 9329f5f8bee949a3908118718c075503b83911\n",
      "FILE INSIDE /Users/xu/Udacity/Automate_the_Boring_Stuff_with_Python_Solutions/.git/objects/fb: dc68b03f388458c541749b935a1b91cef73dc0\n",
      "\n",
      "The current folder is /Users/xu/Udacity/Automate_the_Boring_Stuff_with_Python_Solutions/.git/objects/fc\n",
      "FILE INSIDE /Users/xu/Udacity/Automate_the_Boring_Stuff_with_Python_Solutions/.git/objects/fc: 23711a26300eb94353dc1e05596403deee4d45\n",
      "FILE INSIDE /Users/xu/Udacity/Automate_the_Boring_Stuff_with_Python_Solutions/.git/objects/fc: 3d56de59c4d8552c6a819814d20b9c8f419b55\n",
      "\n",
      "The current folder is /Users/xu/Udacity/Automate_the_Boring_Stuff_with_Python_Solutions/.git/objects/info\n",
      "\n",
      "The current folder is /Users/xu/Udacity/Automate_the_Boring_Stuff_with_Python_Solutions/.git/objects/pack\n",
      "\n",
      "The current folder is /Users/xu/Udacity/Automate_the_Boring_Stuff_with_Python_Solutions/.git/refs\n",
      "SUBFOLDER OF /Users/xu/Udacity/Automate_the_Boring_Stuff_with_Python_Solutions/.git/refs: heads\n",
      "SUBFOLDER OF /Users/xu/Udacity/Automate_the_Boring_Stuff_with_Python_Solutions/.git/refs: tags\n",
      "\n",
      "The current folder is /Users/xu/Udacity/Automate_the_Boring_Stuff_with_Python_Solutions/.git/refs/heads\n",
      "FILE INSIDE /Users/xu/Udacity/Automate_the_Boring_Stuff_with_Python_Solutions/.git/refs/heads: master\n",
      "\n",
      "The current folder is /Users/xu/Udacity/Automate_the_Boring_Stuff_with_Python_Solutions/.git/refs/tags\n",
      "\n",
      "The current folder is /Users/xu/Udacity/Automate_the_Boring_Stuff_with_Python_Solutions/2_Control_Flow\n",
      "FILE INSIDE /Users/xu/Udacity/Automate_the_Boring_Stuff_with_Python_Solutions/2_Control_Flow: .swp\n",
      "FILE INSIDE /Users/xu/Udacity/Automate_the_Boring_Stuff_with_Python_Solutions/2_Control_Flow: exitExample.py\n",
      "\n",
      "The current folder is /Users/xu/Udacity/Automate_the_Boring_Stuff_with_Python_Solutions/3_Function\n",
      "SUBFOLDER OF /Users/xu/Udacity/Automate_the_Boring_Stuff_with_Python_Solutions/3_Function: .ipynb_checkpoints\n",
      "SUBFOLDER OF /Users/xu/Udacity/Automate_the_Boring_Stuff_with_Python_Solutions/3_Function: Practice_Projects\n",
      "FILE INSIDE /Users/xu/Udacity/Automate_the_Boring_Stuff_with_Python_Solutions/3_Function: 3_Function.ipynb\n",
      "FILE INSIDE /Users/xu/Udacity/Automate_the_Boring_Stuff_with_Python_Solutions/3_Function: guessTheNumber.py\n",
      "FILE INSIDE /Users/xu/Udacity/Automate_the_Boring_Stuff_with_Python_Solutions/3_Function: try_except_test.py\n",
      "\n",
      "The current folder is /Users/xu/Udacity/Automate_the_Boring_Stuff_with_Python_Solutions/3_Function/.ipynb_checkpoints\n",
      "FILE INSIDE /Users/xu/Udacity/Automate_the_Boring_Stuff_with_Python_Solutions/3_Function/.ipynb_checkpoints: 3_Function-checkpoint.ipynb\n",
      "\n",
      "The current folder is /Users/xu/Udacity/Automate_the_Boring_Stuff_with_Python_Solutions/3_Function/Practice_Projects\n",
      "FILE INSIDE /Users/xu/Udacity/Automate_the_Boring_Stuff_with_Python_Solutions/3_Function/Practice_Projects: Collatz.py\n",
      "\n",
      "The current folder is /Users/xu/Udacity/Automate_the_Boring_Stuff_with_Python_Solutions/4_List\n",
      "SUBFOLDER OF /Users/xu/Udacity/Automate_the_Boring_Stuff_with_Python_Solutions/4_List: .ipynb_checkpoints\n",
      "SUBFOLDER OF /Users/xu/Udacity/Automate_the_Boring_Stuff_with_Python_Solutions/4_List: Practice_Projects\n",
      "FILE INSIDE /Users/xu/Udacity/Automate_the_Boring_Stuff_with_Python_Solutions/4_List: 4_List.ipynb\n",
      "FILE INSIDE /Users/xu/Udacity/Automate_the_Boring_Stuff_with_Python_Solutions/4_List: allMyCats2.py\n",
      "FILE INSIDE /Users/xu/Udacity/Automate_the_Boring_Stuff_with_Python_Solutions/4_List: magic8Ball2.py\n",
      "FILE INSIDE /Users/xu/Udacity/Automate_the_Boring_Stuff_with_Python_Solutions/4_List: my_pets.py\n",
      "\n",
      "The current folder is /Users/xu/Udacity/Automate_the_Boring_Stuff_with_Python_Solutions/4_List/.ipynb_checkpoints\n",
      "FILE INSIDE /Users/xu/Udacity/Automate_the_Boring_Stuff_with_Python_Solutions/4_List/.ipynb_checkpoints: 4_List-checkpoint.ipynb\n",
      "\n",
      "The current folder is /Users/xu/Udacity/Automate_the_Boring_Stuff_with_Python_Solutions/4_List/Practice_Projects\n",
      "FILE INSIDE /Users/xu/Udacity/Automate_the_Boring_Stuff_with_Python_Solutions/4_List/Practice_Projects: character_picture_grid.py\n",
      "FILE INSIDE /Users/xu/Udacity/Automate_the_Boring_Stuff_with_Python_Solutions/4_List/Practice_Projects: comma_code1.py\n",
      "FILE INSIDE /Users/xu/Udacity/Automate_the_Boring_Stuff_with_Python_Solutions/4_List/Practice_Projects: comma_code2.py\n",
      "\n",
      "The current folder is /Users/xu/Udacity/Automate_the_Boring_Stuff_with_Python_Solutions/5_Dictionaries_and_Structuring_Data\n",
      "SUBFOLDER OF /Users/xu/Udacity/Automate_the_Boring_Stuff_with_Python_Solutions/5_Dictionaries_and_Structuring_Data: .ipynb_checkpoints\n",
      "SUBFOLDER OF /Users/xu/Udacity/Automate_the_Boring_Stuff_with_Python_Solutions/5_Dictionaries_and_Structuring_Data: Practice_Projects\n",
      "FILE INSIDE /Users/xu/Udacity/Automate_the_Boring_Stuff_with_Python_Solutions/5_Dictionaries_and_Structuring_Data: 5_Dict.ipynb\n",
      "FILE INSIDE /Users/xu/Udacity/Automate_the_Boring_Stuff_with_Python_Solutions/5_Dictionaries_and_Structuring_Data: birthdays.py\n",
      "FILE INSIDE /Users/xu/Udacity/Automate_the_Boring_Stuff_with_Python_Solutions/5_Dictionaries_and_Structuring_Data: character_count.py\n",
      "FILE INSIDE /Users/xu/Udacity/Automate_the_Boring_Stuff_with_Python_Solutions/5_Dictionaries_and_Structuring_Data: pretty_character_count.py\n",
      "FILE INSIDE /Users/xu/Udacity/Automate_the_Boring_Stuff_with_Python_Solutions/5_Dictionaries_and_Structuring_Data: ticTacToe.py\n",
      "FILE INSIDE /Users/xu/Udacity/Automate_the_Boring_Stuff_with_Python_Solutions/5_Dictionaries_and_Structuring_Data: total_brought.py\n",
      "\n",
      "The current folder is /Users/xu/Udacity/Automate_the_Boring_Stuff_with_Python_Solutions/5_Dictionaries_and_Structuring_Data/.ipynb_checkpoints\n",
      "FILE INSIDE /Users/xu/Udacity/Automate_the_Boring_Stuff_with_Python_Solutions/5_Dictionaries_and_Structuring_Data/.ipynb_checkpoints: 5_Dict-checkpoint.ipynb\n",
      "\n",
      "The current folder is /Users/xu/Udacity/Automate_the_Boring_Stuff_with_Python_Solutions/5_Dictionaries_and_Structuring_Data/Practice_Projects\n",
      "FILE INSIDE /Users/xu/Udacity/Automate_the_Boring_Stuff_with_Python_Solutions/5_Dictionaries_and_Structuring_Data/Practice_Projects: Fantasy_Game_Inventory.py\n",
      "FILE INSIDE /Users/xu/Udacity/Automate_the_Boring_Stuff_with_Python_Solutions/5_Dictionaries_and_Structuring_Data/Practice_Projects: Fantasy_Game_Inventory_dragon.py\n",
      "\n",
      "The current folder is /Users/xu/Udacity/Automate_the_Boring_Stuff_with_Python_Solutions/6_Manipulating_Strings\n",
      "SUBFOLDER OF /Users/xu/Udacity/Automate_the_Boring_Stuff_with_Python_Solutions/6_Manipulating_Strings: .ipynb_checkpoints\n",
      "SUBFOLDER OF /Users/xu/Udacity/Automate_the_Boring_Stuff_with_Python_Solutions/6_Manipulating_Strings: Chapter_Projects\n",
      "SUBFOLDER OF /Users/xu/Udacity/Automate_the_Boring_Stuff_with_Python_Solutions/6_Manipulating_Strings: Practice_Projects\n",
      "FILE INSIDE /Users/xu/Udacity/Automate_the_Boring_Stuff_with_Python_Solutions/6_Manipulating_Strings: 6_Strings.ipynb\n",
      "FILE INSIDE /Users/xu/Udacity/Automate_the_Boring_Stuff_with_Python_Solutions/6_Manipulating_Strings: picnic_table.py\n",
      "\n",
      "The current folder is /Users/xu/Udacity/Automate_the_Boring_Stuff_with_Python_Solutions/6_Manipulating_Strings/.ipynb_checkpoints\n",
      "FILE INSIDE /Users/xu/Udacity/Automate_the_Boring_Stuff_with_Python_Solutions/6_Manipulating_Strings/.ipynb_checkpoints: 6_Strings-checkpoint.ipynb\n",
      "\n",
      "The current folder is /Users/xu/Udacity/Automate_the_Boring_Stuff_with_Python_Solutions/6_Manipulating_Strings/Chapter_Projects\n",
      "FILE INSIDE /Users/xu/Udacity/Automate_the_Boring_Stuff_with_Python_Solutions/6_Manipulating_Strings/Chapter_Projects: bullet_point_adder_error.py\n",
      "FILE INSIDE /Users/xu/Udacity/Automate_the_Boring_Stuff_with_Python_Solutions/6_Manipulating_Strings/Chapter_Projects: bulletPointAdder.py\n",
      "FILE INSIDE /Users/xu/Udacity/Automate_the_Boring_Stuff_with_Python_Solutions/6_Manipulating_Strings/Chapter_Projects: pw.py\n",
      "\n",
      "The current folder is /Users/xu/Udacity/Automate_the_Boring_Stuff_with_Python_Solutions/6_Manipulating_Strings/Practice_Projects\n",
      "FILE INSIDE /Users/xu/Udacity/Automate_the_Boring_Stuff_with_Python_Solutions/6_Manipulating_Strings/Practice_Projects: table_printer.py\n",
      "\n",
      "The current folder is /Users/xu/Udacity/Automate_the_Boring_Stuff_with_Python_Solutions/7_Pattern_Matching_with_Regular_Expressions\n",
      "SUBFOLDER OF /Users/xu/Udacity/Automate_the_Boring_Stuff_with_Python_Solutions/7_Pattern_Matching_with_Regular_Expressions: .ipynb_checkpoints\n",
      "SUBFOLDER OF /Users/xu/Udacity/Automate_the_Boring_Stuff_with_Python_Solutions/7_Pattern_Matching_with_Regular_Expressions: Chapter_Project\n",
      "SUBFOLDER OF /Users/xu/Udacity/Automate_the_Boring_Stuff_with_Python_Solutions/7_Pattern_Matching_with_Regular_Expressions: Practice_Project\n",
      "FILE INSIDE /Users/xu/Udacity/Automate_the_Boring_Stuff_with_Python_Solutions/7_Pattern_Matching_with_Regular_Expressions: .DS_Store\n",
      "FILE INSIDE /Users/xu/Udacity/Automate_the_Boring_Stuff_with_Python_Solutions/7_Pattern_Matching_with_Regular_Expressions: 7_regex.ipynb\n",
      "\n",
      "The current folder is /Users/xu/Udacity/Automate_the_Boring_Stuff_with_Python_Solutions/7_Pattern_Matching_with_Regular_Expressions/.ipynb_checkpoints\n",
      "FILE INSIDE /Users/xu/Udacity/Automate_the_Boring_Stuff_with_Python_Solutions/7_Pattern_Matching_with_Regular_Expressions/.ipynb_checkpoints: 7_regex-checkpoint.ipynb\n",
      "\n",
      "The current folder is /Users/xu/Udacity/Automate_the_Boring_Stuff_with_Python_Solutions/7_Pattern_Matching_with_Regular_Expressions/Chapter_Project\n",
      "FILE INSIDE /Users/xu/Udacity/Automate_the_Boring_Stuff_with_Python_Solutions/7_Pattern_Matching_with_Regular_Expressions/Chapter_Project: phone_and_eamil.py\n",
      "FILE INSIDE /Users/xu/Udacity/Automate_the_Boring_Stuff_with_Python_Solutions/7_Pattern_Matching_with_Regular_Expressions/Chapter_Project: phoneAndEmail.py\n",
      "\n",
      "The current folder is /Users/xu/Udacity/Automate_the_Boring_Stuff_with_Python_Solutions/7_Pattern_Matching_with_Regular_Expressions/Practice_Project\n",
      "FILE INSIDE /Users/xu/Udacity/Automate_the_Boring_Stuff_with_Python_Solutions/7_Pattern_Matching_with_Regular_Expressions/Practice_Project: regex_strip.py\n",
      "FILE INSIDE /Users/xu/Udacity/Automate_the_Boring_Stuff_with_Python_Solutions/7_Pattern_Matching_with_Regular_Expressions/Practice_Project: strong_password_detection.py\n",
      "\n",
      "The current folder is /Users/xu/Udacity/Automate_the_Boring_Stuff_with_Python_Solutions/8_Reading_and_Writing_Files\n",
      "SUBFOLDER OF /Users/xu/Udacity/Automate_the_Boring_Stuff_with_Python_Solutions/8_Reading_and_Writing_Files: .ipynb_checkpoints\n",
      "SUBFOLDER OF /Users/xu/Udacity/Automate_the_Boring_Stuff_with_Python_Solutions/8_Reading_and_Writing_Files: __pycache__\n",
      "SUBFOLDER OF /Users/xu/Udacity/Automate_the_Boring_Stuff_with_Python_Solutions/8_Reading_and_Writing_Files: Chapter_Project\n",
      "SUBFOLDER OF /Users/xu/Udacity/Automate_the_Boring_Stuff_with_Python_Solutions/8_Reading_and_Writing_Files: test_folder1\n",
      "FILE INSIDE /Users/xu/Udacity/Automate_the_Boring_Stuff_with_Python_Solutions/8_Reading_and_Writing_Files: .DS_Store\n",
      "FILE INSIDE /Users/xu/Udacity/Automate_the_Boring_Stuff_with_Python_Solutions/8_Reading_and_Writing_Files: 8_read_and_write.ipynb\n",
      "FILE INSIDE /Users/xu/Udacity/Automate_the_Boring_Stuff_with_Python_Solutions/8_Reading_and_Writing_Files: bacon.txt\n",
      "FILE INSIDE /Users/xu/Udacity/Automate_the_Boring_Stuff_with_Python_Solutions/8_Reading_and_Writing_Files: hello.txt\n",
      "FILE INSIDE /Users/xu/Udacity/Automate_the_Boring_Stuff_with_Python_Solutions/8_Reading_and_Writing_Files: my_cats.py\n",
      "FILE INSIDE /Users/xu/Udacity/Automate_the_Boring_Stuff_with_Python_Solutions/8_Reading_and_Writing_Files: mydata.db\n",
      "FILE INSIDE /Users/xu/Udacity/Automate_the_Boring_Stuff_with_Python_Solutions/8_Reading_and_Writing_Files: sonnet29.txt\n",
      "\n",
      "The current folder is /Users/xu/Udacity/Automate_the_Boring_Stuff_with_Python_Solutions/8_Reading_and_Writing_Files/.ipynb_checkpoints\n",
      "FILE INSIDE /Users/xu/Udacity/Automate_the_Boring_Stuff_with_Python_Solutions/8_Reading_and_Writing_Files/.ipynb_checkpoints: 8_read_and_write-checkpoint.ipynb\n",
      "\n",
      "The current folder is /Users/xu/Udacity/Automate_the_Boring_Stuff_with_Python_Solutions/8_Reading_and_Writing_Files/__pycache__\n",
      "FILE INSIDE /Users/xu/Udacity/Automate_the_Boring_Stuff_with_Python_Solutions/8_Reading_and_Writing_Files/__pycache__: my_cats.cpython-35.pyc\n",
      "\n",
      "The current folder is /Users/xu/Udacity/Automate_the_Boring_Stuff_with_Python_Solutions/8_Reading_and_Writing_Files/Chapter_Project\n",
      "FILE INSIDE /Users/xu/Udacity/Automate_the_Boring_Stuff_with_Python_Solutions/8_Reading_and_Writing_Files/Chapter_Project: .DS_Store\n",
      "FILE INSIDE /Users/xu/Udacity/Automate_the_Boring_Stuff_with_Python_Solutions/8_Reading_and_Writing_Files/Chapter_Project: mcb.pyw\n",
      "FILE INSIDE /Users/xu/Udacity/Automate_the_Boring_Stuff_with_Python_Solutions/8_Reading_and_Writing_Files/Chapter_Project: random_quiz_generator.py\n",
      "FILE INSIDE /Users/xu/Udacity/Automate_the_Boring_Stuff_with_Python_Solutions/8_Reading_and_Writing_Files/Chapter_Project: randomQuizGenerator.py\n",
      "\n",
      "The current folder is /Users/xu/Udacity/Automate_the_Boring_Stuff_with_Python_Solutions/8_Reading_and_Writing_Files/test_folder1\n",
      "SUBFOLDER OF /Users/xu/Udacity/Automate_the_Boring_Stuff_with_Python_Solutions/8_Reading_and_Writing_Files/test_folder1: test_folder2\n",
      "\n",
      "The current folder is /Users/xu/Udacity/Automate_the_Boring_Stuff_with_Python_Solutions/8_Reading_and_Writing_Files/test_folder1/test_folder2\n",
      "\n",
      "The current folder is /Users/xu/Udacity/Automate_the_Boring_Stuff_with_Python_Solutions/9_Organizing_Files\n",
      "SUBFOLDER OF /Users/xu/Udacity/Automate_the_Boring_Stuff_with_Python_Solutions/9_Organizing_Files: .ipynb_checkpoints\n",
      "FILE INSIDE /Users/xu/Udacity/Automate_the_Boring_Stuff_with_Python_Solutions/9_Organizing_Files: 9_organizing_files.ipynb\n",
      "\n",
      "The current folder is /Users/xu/Udacity/Automate_the_Boring_Stuff_with_Python_Solutions/9_Organizing_Files/.ipynb_checkpoints\n",
      "FILE INSIDE /Users/xu/Udacity/Automate_the_Boring_Stuff_with_Python_Solutions/9_Organizing_Files/.ipynb_checkpoints: 9_organizing_files-checkpoint.ipynb\n",
      "\n",
      "The current folder is /Users/xu/Udacity/Automate_the_Boring_Stuff_with_Python_Solutions/Automate_online-materials\n",
      "FILE INSIDE /Users/xu/Udacity/Automate_the_Boring_Stuff_with_Python_Solutions/Automate_online-materials: alarm.wav\n",
      "FILE INSIDE /Users/xu/Udacity/Automate_the_Boring_Stuff_with_Python_Solutions/Automate_online-materials: allMyCats1.py\n",
      "FILE INSIDE /Users/xu/Udacity/Automate_the_Boring_Stuff_with_Python_Solutions/Automate_online-materials: allMyCats2.py\n",
      "FILE INSIDE /Users/xu/Udacity/Automate_the_Boring_Stuff_with_Python_Solutions/Automate_online-materials: backupToZip.py\n",
      "FILE INSIDE /Users/xu/Udacity/Automate_the_Boring_Stuff_with_Python_Solutions/Automate_online-materials: birthdays.py\n",
      "FILE INSIDE /Users/xu/Udacity/Automate_the_Boring_Stuff_with_Python_Solutions/Automate_online-materials: boxPrint.py\n",
      "FILE INSIDE /Users/xu/Udacity/Automate_the_Boring_Stuff_with_Python_Solutions/Automate_online-materials: buggyAddingProgram.py\n",
      "FILE INSIDE /Users/xu/Udacity/Automate_the_Boring_Stuff_with_Python_Solutions/Automate_online-materials: bulletPointAdder.py\n",
      "FILE INSIDE /Users/xu/Udacity/Automate_the_Boring_Stuff_with_Python_Solutions/Automate_online-materials: calcProd.py\n",
      "FILE INSIDE /Users/xu/Udacity/Automate_the_Boring_Stuff_with_Python_Solutions/Automate_online-materials: catlogo.png\n",
      "FILE INSIDE /Users/xu/Udacity/Automate_the_Boring_Stuff_with_Python_Solutions/Automate_online-materials: catnapping.py\n",
      "FILE INSIDE /Users/xu/Udacity/Automate_the_Boring_Stuff_with_Python_Solutions/Automate_online-materials: census2010.py\n",
      "FILE INSIDE /Users/xu/Udacity/Automate_the_Boring_Stuff_with_Python_Solutions/Automate_online-materials: censuspopdata.xlsx\n",
      "FILE INSIDE /Users/xu/Udacity/Automate_the_Boring_Stuff_with_Python_Solutions/Automate_online-materials: characterCount.py\n",
      "FILE INSIDE /Users/xu/Udacity/Automate_the_Boring_Stuff_with_Python_Solutions/Automate_online-materials: coinFlip.py\n",
      "FILE INSIDE /Users/xu/Udacity/Automate_the_Boring_Stuff_with_Python_Solutions/Automate_online-materials: combinedminutes.pdf\n",
      "FILE INSIDE /Users/xu/Udacity/Automate_the_Boring_Stuff_with_Python_Solutions/Automate_online-materials: combinePdfs.py\n",
      "FILE INSIDE /Users/xu/Udacity/Automate_the_Boring_Stuff_with_Python_Solutions/Automate_online-materials: countdown.py\n",
      "FILE INSIDE /Users/xu/Udacity/Automate_the_Boring_Stuff_with_Python_Solutions/Automate_online-materials: demo.docx\n",
      "FILE INSIDE /Users/xu/Udacity/Automate_the_Boring_Stuff_with_Python_Solutions/Automate_online-materials: dictionary.txt\n",
      "FILE INSIDE /Users/xu/Udacity/Automate_the_Boring_Stuff_with_Python_Solutions/Automate_online-materials: dimensions.xlsx\n",
      "FILE INSIDE /Users/xu/Udacity/Automate_the_Boring_Stuff_with_Python_Solutions/Automate_online-materials: downloadXkcd.py\n",
      "FILE INSIDE /Users/xu/Udacity/Automate_the_Boring_Stuff_with_Python_Solutions/Automate_online-materials: duesRecords.xlsx\n",
      "FILE INSIDE /Users/xu/Udacity/Automate_the_Boring_Stuff_with_Python_Solutions/Automate_online-materials: encrypted.pdf\n",
      "FILE INSIDE /Users/xu/Udacity/Automate_the_Boring_Stuff_with_Python_Solutions/Automate_online-materials: encryptedminutes.pdf\n",
      "FILE INSIDE /Users/xu/Udacity/Automate_the_Boring_Stuff_with_Python_Solutions/Automate_online-materials: errorExample.py\n",
      "FILE INSIDE /Users/xu/Udacity/Automate_the_Boring_Stuff_with_Python_Solutions/Automate_online-materials: example.csv\n",
      "FILE INSIDE /Users/xu/Udacity/Automate_the_Boring_Stuff_with_Python_Solutions/Automate_online-materials: example.html\n",
      "FILE INSIDE /Users/xu/Udacity/Automate_the_Boring_Stuff_with_Python_Solutions/Automate_online-materials: example.xlsx\n",
      "FILE INSIDE /Users/xu/Udacity/Automate_the_Boring_Stuff_with_Python_Solutions/Automate_online-materials: example.zip\n",
      "FILE INSIDE /Users/xu/Udacity/Automate_the_Boring_Stuff_with_Python_Solutions/Automate_online-materials: excelSpreadsheets.zip\n",
      "FILE INSIDE /Users/xu/Udacity/Automate_the_Boring_Stuff_with_Python_Solutions/Automate_online-materials: exitExample.py\n",
      "FILE INSIDE /Users/xu/Udacity/Automate_the_Boring_Stuff_with_Python_Solutions/Automate_online-materials: factorialLog.py\n",
      "FILE INSIDE /Users/xu/Udacity/Automate_the_Boring_Stuff_with_Python_Solutions/Automate_online-materials: fiveTimes.py\n",
      "FILE INSIDE /Users/xu/Udacity/Automate_the_Boring_Stuff_with_Python_Solutions/Automate_online-materials: formFiller.py\n",
      "FILE INSIDE /Users/xu/Udacity/Automate_the_Boring_Stuff_with_Python_Solutions/Automate_online-materials: freezeExample.xlsx\n",
      "FILE INSIDE /Users/xu/Udacity/Automate_the_Boring_Stuff_with_Python_Solutions/Automate_online-materials: getDocxText.py\n",
      "FILE INSIDE /Users/xu/Udacity/Automate_the_Boring_Stuff_with_Python_Solutions/Automate_online-materials: guessTheNumber.py\n",
      "FILE INSIDE /Users/xu/Udacity/Automate_the_Boring_Stuff_with_Python_Solutions/Automate_online-materials: guests.txt\n",
      "FILE INSIDE /Users/xu/Udacity/Automate_the_Boring_Stuff_with_Python_Solutions/Automate_online-materials: headings.docx\n",
      "FILE INSIDE /Users/xu/Udacity/Automate_the_Boring_Stuff_with_Python_Solutions/Automate_online-materials: hello.py\n",
      "FILE INSIDE /Users/xu/Udacity/Automate_the_Boring_Stuff_with_Python_Solutions/Automate_online-materials: helloFunc.py\n",
      "FILE INSIDE /Users/xu/Udacity/Automate_the_Boring_Stuff_with_Python_Solutions/Automate_online-materials: helloFunc2.py\n",
      "FILE INSIDE /Users/xu/Udacity/Automate_the_Boring_Stuff_with_Python_Solutions/Automate_online-materials: helloworld.docx\n",
      "FILE INSIDE /Users/xu/Udacity/Automate_the_Boring_Stuff_with_Python_Solutions/Automate_online-materials: inventory.py\n",
      "FILE INSIDE /Users/xu/Udacity/Automate_the_Boring_Stuff_with_Python_Solutions/Automate_online-materials: isPhoneNumber.py\n",
      "FILE INSIDE /Users/xu/Udacity/Automate_the_Boring_Stuff_with_Python_Solutions/Automate_online-materials: littleKid.py\n",
      "FILE INSIDE /Users/xu/Udacity/Automate_the_Boring_Stuff_with_Python_Solutions/Automate_online-materials: lucky.py\n",
      "FILE INSIDE /Users/xu/Udacity/Automate_the_Boring_Stuff_with_Python_Solutions/Automate_online-materials: magic8Ball.py\n",
      "FILE INSIDE /Users/xu/Udacity/Automate_the_Boring_Stuff_with_Python_Solutions/Automate_online-materials: magic8Ball2.py\n",
      "FILE INSIDE /Users/xu/Udacity/Automate_the_Boring_Stuff_with_Python_Solutions/Automate_online-materials: mapIt.py\n",
      "FILE INSIDE /Users/xu/Udacity/Automate_the_Boring_Stuff_with_Python_Solutions/Automate_online-materials: mcb.pyw\n",
      "FILE INSIDE /Users/xu/Udacity/Automate_the_Boring_Stuff_with_Python_Solutions/Automate_online-materials: meetingminutes.pdf\n",
      "FILE INSIDE /Users/xu/Udacity/Automate_the_Boring_Stuff_with_Python_Solutions/Automate_online-materials: meetingminutes2.pdf\n",
      "FILE INSIDE /Users/xu/Udacity/Automate_the_Boring_Stuff_with_Python_Solutions/Automate_online-materials: merged.xlsx\n",
      "FILE INSIDE /Users/xu/Udacity/Automate_the_Boring_Stuff_with_Python_Solutions/Automate_online-materials: mouseNow.py\n",
      "FILE INSIDE /Users/xu/Udacity/Automate_the_Boring_Stuff_with_Python_Solutions/Automate_online-materials: mouseNow2.py\n",
      "FILE INSIDE /Users/xu/Udacity/Automate_the_Boring_Stuff_with_Python_Solutions/Automate_online-materials: multidownloadXkcd.py\n",
      "FILE INSIDE /Users/xu/Udacity/Automate_the_Boring_Stuff_with_Python_Solutions/Automate_online-materials: multipleParagraphs.docx\n",
      "FILE INSIDE /Users/xu/Udacity/Automate_the_Boring_Stuff_with_Python_Solutions/Automate_online-materials: myPets.py\n",
      "FILE INSIDE /Users/xu/Udacity/Automate_the_Boring_Stuff_with_Python_Solutions/Automate_online-materials: passingReference.py\n",
      "FILE INSIDE /Users/xu/Udacity/Automate_the_Boring_Stuff_with_Python_Solutions/Automate_online-materials: phoneAndEmail.py\n",
      "FILE INSIDE /Users/xu/Udacity/Automate_the_Boring_Stuff_with_Python_Solutions/Automate_online-materials: picnicTable.py\n",
      "FILE INSIDE /Users/xu/Udacity/Automate_the_Boring_Stuff_with_Python_Solutions/Automate_online-materials: prettyCharacterCount.py\n",
      "FILE INSIDE /Users/xu/Udacity/Automate_the_Boring_Stuff_with_Python_Solutions/Automate_online-materials: printRandom.py\n",
      "FILE INSIDE /Users/xu/Udacity/Automate_the_Boring_Stuff_with_Python_Solutions/Automate_online-materials: produceSales.xlsx\n",
      "FILE INSIDE /Users/xu/Udacity/Automate_the_Boring_Stuff_with_Python_Solutions/Automate_online-materials: pw.py\n",
      "FILE INSIDE /Users/xu/Udacity/Automate_the_Boring_Stuff_with_Python_Solutions/Automate_online-materials: quickWeather.py\n",
      "FILE INSIDE /Users/xu/Udacity/Automate_the_Boring_Stuff_with_Python_Solutions/Automate_online-materials: randomQuizGenerator.py\n",
      "FILE INSIDE /Users/xu/Udacity/Automate_the_Boring_Stuff_with_Python_Solutions/Automate_online-materials: readCensusExcel.py\n",
      "FILE INSIDE /Users/xu/Udacity/Automate_the_Boring_Stuff_with_Python_Solutions/Automate_online-materials: readDocx.py\n",
      "FILE INSIDE /Users/xu/Udacity/Automate_the_Boring_Stuff_with_Python_Solutions/Automate_online-materials: removeCsvHeader.py\n",
      "FILE INSIDE /Users/xu/Udacity/Automate_the_Boring_Stuff_with_Python_Solutions/Automate_online-materials: removeCsvHeader.zip\n",
      "FILE INSIDE /Users/xu/Udacity/Automate_the_Boring_Stuff_with_Python_Solutions/Automate_online-materials: renameDates.py\n",
      "FILE INSIDE /Users/xu/Udacity/Automate_the_Boring_Stuff_with_Python_Solutions/Automate_online-materials: resizeAndAddLogo.py\n",
      "FILE INSIDE /Users/xu/Udacity/Automate_the_Boring_Stuff_with_Python_Solutions/Automate_online-materials: restyled.docx\n",
      "FILE INSIDE /Users/xu/Udacity/Automate_the_Boring_Stuff_with_Python_Solutions/Automate_online-materials: sameName.py\n",
      "FILE INSIDE /Users/xu/Udacity/Automate_the_Boring_Stuff_with_Python_Solutions/Automate_online-materials: sameName2.py\n",
      "FILE INSIDE /Users/xu/Udacity/Automate_the_Boring_Stuff_with_Python_Solutions/Automate_online-materials: sameName3.py\n",
      "FILE INSIDE /Users/xu/Udacity/Automate_the_Boring_Stuff_with_Python_Solutions/Automate_online-materials: sameName4.py\n",
      "FILE INSIDE /Users/xu/Udacity/Automate_the_Boring_Stuff_with_Python_Solutions/Automate_online-materials: sampleChart.xlsx\n",
      "FILE INSIDE /Users/xu/Udacity/Automate_the_Boring_Stuff_with_Python_Solutions/Automate_online-materials: sendDuesReminders.py\n",
      "FILE INSIDE /Users/xu/Udacity/Automate_the_Boring_Stuff_with_Python_Solutions/Automate_online-materials: stopwatch.py\n",
      "FILE INSIDE /Users/xu/Udacity/Automate_the_Boring_Stuff_with_Python_Solutions/Automate_online-materials: styled.xlsx\n",
      "FILE INSIDE /Users/xu/Udacity/Automate_the_Boring_Stuff_with_Python_Solutions/Automate_online-materials: styles.xlsx\n",
      "FILE INSIDE /Users/xu/Udacity/Automate_the_Boring_Stuff_with_Python_Solutions/Automate_online-materials: swordfish.py\n",
      "FILE INSIDE /Users/xu/Udacity/Automate_the_Boring_Stuff_with_Python_Solutions/Automate_online-materials: textMyself.py\n",
      "FILE INSIDE /Users/xu/Udacity/Automate_the_Boring_Stuff_with_Python_Solutions/Automate_online-materials: threadDemo.py\n",
      "FILE INSIDE /Users/xu/Udacity/Automate_the_Boring_Stuff_with_Python_Solutions/Automate_online-materials: ticTacToe.py\n",
      "FILE INSIDE /Users/xu/Udacity/Automate_the_Boring_Stuff_with_Python_Solutions/Automate_online-materials: torrentStarter.py\n",
      "FILE INSIDE /Users/xu/Udacity/Automate_the_Boring_Stuff_with_Python_Solutions/Automate_online-materials: twoPage.docx\n",
      "FILE INSIDE /Users/xu/Udacity/Automate_the_Boring_Stuff_with_Python_Solutions/Automate_online-materials: updatedProduceSales.xlsx\n",
      "FILE INSIDE /Users/xu/Udacity/Automate_the_Boring_Stuff_with_Python_Solutions/Automate_online-materials: updateProduce.py\n",
      "FILE INSIDE /Users/xu/Udacity/Automate_the_Boring_Stuff_with_Python_Solutions/Automate_online-materials: validateInput.py\n",
      "FILE INSIDE /Users/xu/Udacity/Automate_the_Boring_Stuff_with_Python_Solutions/Automate_online-materials: vampire.py\n",
      "FILE INSIDE /Users/xu/Udacity/Automate_the_Boring_Stuff_with_Python_Solutions/Automate_online-materials: vampire2.py\n",
      "FILE INSIDE /Users/xu/Udacity/Automate_the_Boring_Stuff_with_Python_Solutions/Automate_online-materials: watermark.pdf\n",
      "FILE INSIDE /Users/xu/Udacity/Automate_the_Boring_Stuff_with_Python_Solutions/Automate_online-materials: zeroDivide.py\n",
      "FILE INSIDE /Users/xu/Udacity/Automate_the_Boring_Stuff_with_Python_Solutions/Automate_online-materials: zophie.png\n",
      "\n"
     ]
    }
   ],
   "source": [
    "import os\n",
    "\n",
    "for folder_name, sub_folders, file_names in os.walk('/Users/xu/Udacity/Automate_the_Boring_Stuff_with_Python_Solutions'):\n",
    "    print ('The current folder is ' + folder_name)\n",
    "    \n",
    "    for sub_folder in sub_folders:\n",
    "        print ('SUBFOLDER OF ' + folder_name + ': ' + sub_folder)\n",
    "    for file_name in file_names:\n",
    "        print ('FILE INSIDE ' + folder_name + ': ' + file_name)\n",
    "    \n",
    "    print ('')"
   ]
  },
  {
   "cell_type": "code",
   "execution_count": 21,
   "metadata": {
    "collapsed": true
   },
   "outputs": [],
   "source": [
    "#9.3 zipfile"
   ]
  },
  {
   "cell_type": "code",
   "execution_count": 23,
   "metadata": {
    "collapsed": false
   },
   "outputs": [
    {
     "data": {
      "text/plain": [
       "'/Users/xu/Udacity/Automate_the_Boring_Stuff_with_Python_Solutions/9_Organizing_Files'"
      ]
     },
     "execution_count": 23,
     "metadata": {},
     "output_type": "execute_result"
    }
   ],
   "source": [
    "pwd"
   ]
  },
  {
   "cell_type": "code",
   "execution_count": 26,
   "metadata": {
    "collapsed": false
   },
   "outputs": [
    {
     "data": {
      "text/plain": [
       "['spam.txt', 'cats/', 'cats/catnames.txt', 'cats/zophie.jpg']"
      ]
     },
     "execution_count": 26,
     "metadata": {},
     "output_type": "execute_result"
    }
   ],
   "source": [
    "import zipfile, os\n",
    "\n",
    "os.chdir('/Users/xu/Udacity/Automate_the_Boring_Stuff_with_Python_Solutions/9_Organizing_Files')\n",
    "example_zip = zipfile.ZipFile('example.zip')\n",
    "example_zip.namelist()\n"
   ]
  },
  {
   "cell_type": "code",
   "execution_count": 27,
   "metadata": {
    "collapsed": true
   },
   "outputs": [],
   "source": [
    "spam_info = example_zip.getinfo('spam.txt')"
   ]
  },
  {
   "cell_type": "code",
   "execution_count": 28,
   "metadata": {
    "collapsed": false
   },
   "outputs": [
    {
     "data": {
      "text/plain": [
       "13908"
      ]
     },
     "execution_count": 28,
     "metadata": {},
     "output_type": "execute_result"
    }
   ],
   "source": [
    "spam_info.file_size"
   ]
  },
  {
   "cell_type": "code",
   "execution_count": 29,
   "metadata": {
    "collapsed": false
   },
   "outputs": [
    {
     "data": {
      "text/plain": [
       "3828"
      ]
     },
     "execution_count": 29,
     "metadata": {},
     "output_type": "execute_result"
    }
   ],
   "source": [
    "spam_info.compress_size"
   ]
  },
  {
   "cell_type": "code",
   "execution_count": 30,
   "metadata": {
    "collapsed": false
   },
   "outputs": [
    {
     "name": "stdout",
     "output_type": "stream",
     "text": [
      "9_organizing_files.ipynb  \u001b[31mexample.zip\u001b[m\u001b[m*\r\n"
     ]
    }
   ],
   "source": [
    "ls"
   ]
  },
  {
   "cell_type": "code",
   "execution_count": 31,
   "metadata": {
    "collapsed": false
   },
   "outputs": [
    {
     "data": {
      "text/plain": [
       "'Compressed file is 3.63x smaller!'"
      ]
     },
     "execution_count": 31,
     "metadata": {},
     "output_type": "execute_result"
    }
   ],
   "source": [
    "'Compressed file is %sx smaller!' % (round(spam_info.file_size/spam_info.compress_size, 2))"
   ]
  },
  {
   "cell_type": "code",
   "execution_count": 32,
   "metadata": {
    "collapsed": true
   },
   "outputs": [],
   "source": [
    "example_zip.close()"
   ]
  },
  {
   "cell_type": "code",
   "execution_count": 33,
   "metadata": {
    "collapsed": false
   },
   "outputs": [
    {
     "name": "stdout",
     "output_type": "stream",
     "text": [
      "9_organizing_files.ipynb  \u001b[31mexample.zip\u001b[m\u001b[m*\r\n"
     ]
    }
   ],
   "source": [
    "ls"
   ]
  },
  {
   "cell_type": "code",
   "execution_count": 37,
   "metadata": {
    "collapsed": false
   },
   "outputs": [],
   "source": [
    "import zipfile, os\n",
    "os.chdir('/Users/xu/Udacity/Automate_the_Boring_Stuff_with_Python_Solutions/9_Organizing_Files')\n",
    "example_zip = zipfile.ZipFile('example.zip')\n",
    "example_zip.extractall()\n",
    "example_zip.close()"
   ]
  },
  {
   "cell_type": "code",
   "execution_count": 38,
   "metadata": {
    "collapsed": false
   },
   "outputs": [
    {
     "name": "stdout",
     "output_type": "stream",
     "text": [
      "9_organizing_files.ipynb  \u001b[31mexample.zip\u001b[m\u001b[m*\r\n",
      "\u001b[1m\u001b[36mcats\u001b[m\u001b[m/                     spam.txt\r\n"
     ]
    }
   ],
   "source": [
    "ls"
   ]
  },
  {
   "cell_type": "code",
   "execution_count": 40,
   "metadata": {
    "collapsed": false
   },
   "outputs": [
    {
     "data": {
      "text/plain": [
       "'/Users/xu/Udacity/Automate_the_Boring_Stuff_with_Python_Solutions/9_Organizing_Files/spam.txt'"
      ]
     },
     "execution_count": 40,
     "metadata": {},
     "output_type": "execute_result"
    }
   ],
   "source": [
    "example_zip = zipfile.ZipFile('example.zip')\n",
    "example_zip.extract('spam.txt')"
   ]
  },
  {
   "cell_type": "code",
   "execution_count": 41,
   "metadata": {
    "collapsed": false
   },
   "outputs": [
    {
     "data": {
      "text/plain": [
       "'/Users/xu/Udacity/Automate_the_Boring_Stuff_with_Python_Solutions/9_Organizing_Files/some_new/folders/spam.txt'"
      ]
     },
     "execution_count": 41,
     "metadata": {},
     "output_type": "execute_result"
    }
   ],
   "source": [
    "example_zip.extract('spam.txt', '/Users/xu/Udacity/Automate_the_Boring_Stuff_with_Python_Solutions/9_Organizing_Files/some_new/folders')"
   ]
  },
  {
   "cell_type": "code",
   "execution_count": 43,
   "metadata": {
    "collapsed": false
   },
   "outputs": [
    {
     "name": "stdout",
     "output_type": "stream",
     "text": [
      "9_organizing_files.ipynb  \u001b[31mexample.zip\u001b[m\u001b[m*              spam.txt\r\n",
      "\u001b[1m\u001b[36mcats\u001b[m\u001b[m/                     \u001b[1m\u001b[36msome_new\u001b[m\u001b[m/\r\n"
     ]
    }
   ],
   "source": [
    "ls"
   ]
  },
  {
   "cell_type": "code",
   "execution_count": 45,
   "metadata": {
    "collapsed": false
   },
   "outputs": [],
   "source": [
    "import zipfile\n",
    "new_zip = zipfile.ZipFile('new.zip', 'w')\n",
    "new_zip.write('spam.txt', compress_type=zipfile.ZIP_DEFLATED)\n",
    "new_zip.close()"
   ]
  },
  {
   "cell_type": "code",
   "execution_count": 46,
   "metadata": {
    "collapsed": false
   },
   "outputs": [
    {
     "name": "stdout",
     "output_type": "stream",
     "text": [
      "9_organizing_files.ipynb  \u001b[31mexample.zip\u001b[m\u001b[m*              \u001b[1m\u001b[36msome_new\u001b[m\u001b[m/\r\n",
      "\u001b[1m\u001b[36mcats\u001b[m\u001b[m/                     new.zip                   spam.txt\r\n"
     ]
    }
   ],
   "source": [
    "ls"
   ]
  },
  {
   "cell_type": "code",
   "execution_count": 47,
   "metadata": {
    "collapsed": false
   },
   "outputs": [
    {
     "name": "stdout",
     "output_type": "stream",
     "text": [
      "catnames.txt  zophie.jpg\r\n"
     ]
    }
   ],
   "source": [
    "ls cats"
   ]
  },
  {
   "cell_type": "code",
   "execution_count": 48,
   "metadata": {
    "collapsed": false
   },
   "outputs": [
    {
     "name": "stdout",
     "output_type": "stream",
     "text": [
      "new.zip\r\n"
     ]
    }
   ],
   "source": [
    "ls new.zip"
   ]
  },
  {
   "cell_type": "code",
   "execution_count": null,
   "metadata": {
    "collapsed": true
   },
   "outputs": [],
   "source": []
  }
 ],
 "metadata": {
  "anaconda-cloud": {},
  "kernelspec": {
   "display_name": "Python [conda env:py35]",
   "language": "python",
   "name": "conda-env-py35-py"
  },
  "language_info": {
   "codemirror_mode": {
    "name": "ipython",
    "version": 3
   },
   "file_extension": ".py",
   "mimetype": "text/x-python",
   "name": "python",
   "nbconvert_exporter": "python",
   "pygments_lexer": "ipython3",
   "version": "3.5.2"
  }
 },
 "nbformat": 4,
 "nbformat_minor": 1
}
